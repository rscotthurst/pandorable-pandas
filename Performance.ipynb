{
 "cells": [
  {
   "cell_type": "markdown",
   "metadata": {},
   "source": [
    "# Performance\n",
    "\n",
    "\n",
    "*Avoiding slow code*\n",
    "\n",
    "With pandas, you'll get the most bang for your performance-buck by avoiding antipatterns. Once you've done that there are additional options like using Numba or Cython if you really need to optimize a piece of code, but that's more work typically.\n",
    "\n",
    "This notebook will walk through several common mistakes, and show more performant ways of achieving the same thing."
   ]
  },
  {
   "cell_type": "code",
   "execution_count": 1,
   "metadata": {},
   "outputs": [],
   "source": [
    "import numpy as np\n",
    "import pandas as pd"
   ]
  },
  {
   "cell_type": "markdown",
   "metadata": {},
   "source": [
    "## Mistake 1: Using pandas\n",
    "\n",
    "pandas isn't always the right choice. If you're dealing with non-tabular data, or lots of linear algebra, you might be better off using something else like Python lists / dicts / sets, or raw NumPy arrays.\n",
    "\n",
    "## Mistake 2: Using object dtype\n",
    "\n",
    "Jake VanderPlas has a [great article](https://jakevdp.github.io/blog/2014/05/09/why-python-is-slow/) on why Python is slow for many of the things we care about as analysts / scientists. One reason is the overhead that comes from  using python objects for integers, floats, etc. relative to their native versions in languages like C.\n",
    "\n",
    "As a small demonstration, we'll make two NumPy arrays, one with python integers, and one with NumPy's int64."
   ]
  },
  {
   "cell_type": "code",
   "execution_count": 7,
   "metadata": {},
   "outputs": [],
   "source": [
    "# Two arrays, different dtypes\n",
    "s1 = np.arange(10000, dtype=object)\n",
    "s2 = np.arange(10000, dtype=np.int64)"
   ]
  },
  {
   "cell_type": "markdown",
   "metadata": {},
   "source": [
    "Now let's do a simple operation on them, like taking the sum."
   ]
  },
  {
   "cell_type": "code",
   "execution_count": 5,
   "metadata": {},
   "outputs": [
    {
     "name": "stdout",
     "output_type": "stream",
     "text": [
      "215 µs ± 4.9 µs per loop (mean ± std. dev. of 7 runs, 1000 loops each)\n"
     ]
    }
   ],
   "source": [
    "%timeit s1.sum()"
   ]
  },
  {
   "cell_type": "code",
   "execution_count": 6,
   "metadata": {},
   "outputs": [
    {
     "name": "stdout",
     "output_type": "stream",
     "text": [
      "5.56 µs ± 121 ns per loop (mean ± std. dev. of 7 runs, 100000 loops each)\n"
     ]
    }
   ],
   "source": [
    "%timeit s2.sum()"
   ]
  },
  {
   "cell_type": "markdown",
   "metadata": {},
   "source": [
    "NumPy can process the specialized int64 dtype array faster than the python object version, even though they're equal. Part of this comes from the different algorithms (the NumPy version would overflow with very large integers), and part comes from the Python version having to repeated unbox the actual integer from the Python object, and re-box it for the result.\n",
    "\n",
    "Typically you would never explicitly pass in dtype=object there, but occasionally object dtypes slip into pandas\n",
    "\n",
    "* Reading messy Excel Files / CSV files\n",
    "\n",
    "  These file types either don't have or don't enforce types. pandas has to infer dtypes, which doesn't always go as expected\n",
    "\n",
    "* \"Exotic\" data types like Dates, Times, Decimals\n",
    "\n",
    "    Pandas has implemented a specialized version of datetime.datime, and datetime.timedelta, but not datetime.date, datetime.time, Decimal, etc. Depending on your application, you might be able to treat dates as datetimess, at midnight.\n",
    "\n",
    "As discussed in the [pandas documentation](https://pandas.pydata.org/docs/user_guide/basics.html#dtypes), pandas mostly uses NumPy's data types. Recent versions include more *extension types*, which are non-NumPy dtypes inside a Series or a DataFrame. Right now the most popular are\n",
    "\n",
    "* Datetimes with Timezones\n",
    "* Categorical\n",
    "* StringDtype\n",
    "* Nullable Integer\n",
    "* Nullable Boolean\n",
    "\n",
    "Previously, pandas couldn't natively store an array of integers with some missing values, since we used `np.nan` as a missing value indicator. `np.nan` is a float, and an array of some integers and some floats is just cast to an array of floats."
   ]
  },
  {
   "cell_type": "code",
   "execution_count": 8,
   "metadata": {},
   "outputs": [
    {
     "data": {
      "text/plain": [
       "0    1.0\n",
       "1    NaN\n",
       "2    2.0\n",
       "dtype: float64"
      ]
     },
     "execution_count": 8,
     "metadata": {},
     "output_type": "execute_result"
    }
   ],
   "source": [
    "pd.Series([1, None, 2])"
   ]
  },
  {
   "cell_type": "markdown",
   "metadata": {},
   "source": [
    "You might have explicitly requested `dtype=object` to keep it from being cast to float."
   ]
  },
  {
   "cell_type": "code",
   "execution_count": 9,
   "metadata": {},
   "outputs": [
    {
     "data": {
      "text/plain": [
       "0       1\n",
       "1    None\n",
       "2       2\n",
       "dtype: object"
      ]
     },
     "execution_count": 9,
     "metadata": {},
     "output_type": "execute_result"
    }
   ],
   "source": [
    "pd.Series([1, None, 2], dtype=object)"
   ]
  },
  {
   "cell_type": "markdown",
   "metadata": {},
   "source": [
    "But as we know, object-dtype is slow. It's better to use pandas nullable integer dtype:"
   ]
  },
  {
   "cell_type": "code",
   "execution_count": 10,
   "metadata": {},
   "outputs": [
    {
     "data": {
      "text/plain": [
       "0       1\n",
       "1    <NA>\n",
       "2       2\n",
       "dtype: Int64"
      ]
     },
     "execution_count": 10,
     "metadata": {},
     "output_type": "execute_result"
    }
   ],
   "source": [
    "pd.Series([1, None, 2], dtype=pd.Int64Dtype())"
   ]
  },
  {
   "cell_type": "code",
   "execution_count": 11,
   "metadata": {},
   "outputs": [
    {
     "name": "stdout",
     "output_type": "stream",
     "text": [
      "649 µs ± 41.6 µs per loop (mean ± std. dev. of 7 runs, 1000 loops each)\n"
     ]
    }
   ],
   "source": [
    "a = pd.Series([None] + list(range(10000)), dtype=object)\n",
    "%timeit a.mean()"
   ]
  },
  {
   "cell_type": "code",
   "execution_count": 12,
   "metadata": {},
   "outputs": [
    {
     "name": "stdout",
     "output_type": "stream",
     "text": [
      "139 µs ± 25.4 µs per loop (mean ± std. dev. of 7 runs, 10000 loops each)\n"
     ]
    }
   ],
   "source": [
    "b = pd.Series([None] + list(range(10000)), dtype=pd.Int64Dtype())\n",
    "%timeit b.mean()"
   ]
  },
  {
   "cell_type": "markdown",
   "metadata": {},
   "source": [
    "If you have some messy data in-memory (in a Python list, say) that you wish to convert, use one of pandas' parsers like\n",
    "\n",
    "- `pd.to_numeric`\n",
    "- `pd.to_datetime`\n",
    "- `pd.to_timedelta`\n",
    "\n",
    "Or use `DataFrame.convert_dtypes()` to convert from the \"old\" versions (e.g. floats with NaNs) to the new nullable versions (e.g. nullable integer).\n",
    "\n",
    "### Categoricals\n",
    "\n",
    "pandas has a [Categorical Data Type](https://pandas.pydata.org/pandas-docs/stable/reference/api/pandas.Categorical.html) that represents data coming from a specific, and typically *fixed* set of values. It's data model includes two components:\n",
    "\n",
    "1. `categories`: An Index storing the set of valid values.\n",
    "2. `ordered`: A boolean flag indicating whether there's an ordering between the values.\n",
    "\n",
    "If you try to set a value that's not contained in the `categories`, you'll see an exception."
   ]
  },
  {
   "cell_type": "code",
   "execution_count": 13,
   "metadata": {},
   "outputs": [
    {
     "data": {
      "text/plain": [
       "['good', 'better', 'good', 'best']\n",
       "Categories (3, object): ['good' < 'better' < 'best']"
      ]
     },
     "execution_count": 13,
     "metadata": {},
     "output_type": "execute_result"
    }
   ],
   "source": [
    "a = pd.Categorical(['good', 'better', 'good', 'best'],\n",
    "                   categories=['good', 'better', 'best'],\n",
    "                   ordered=True)\n",
    "a"
   ]
  },
  {
   "cell_type": "code",
   "execution_count": 14,
   "metadata": {},
   "outputs": [
    {
     "ename": "ValueError",
     "evalue": "Cannot setitem on a Categorical with a new category, set the categories first",
     "output_type": "error",
     "traceback": [
      "\u001b[0;31m---------------------------------------------------------------------------\u001b[0m",
      "\u001b[0;31mValueError\u001b[0m                                Traceback (most recent call last)",
      "\u001b[0;32m<ipython-input-14-ca059bfd3067>\u001b[0m in \u001b[0;36m<module>\u001b[0;34m\u001b[0m\n\u001b[0;32m----> 1\u001b[0;31m \u001b[0ma\u001b[0m\u001b[0;34m[\u001b[0m\u001b[0;36m0\u001b[0m\u001b[0;34m]\u001b[0m \u001b[0;34m=\u001b[0m \u001b[0;34m'OK'\u001b[0m\u001b[0;34m\u001b[0m\u001b[0;34m\u001b[0m\u001b[0m\n\u001b[0m",
      "\u001b[0;32m~/opt/anaconda3/envs/pandorable-pandas/lib/python3.8/site-packages/pandas/core/arrays/categorical.py\u001b[0m in \u001b[0;36m__setitem__\u001b[0;34m(self, key, value)\u001b[0m\n\u001b[1;32m   2008\u001b[0m         \u001b[0;31m# something to np.nan\u001b[0m\u001b[0;34m\u001b[0m\u001b[0;34m\u001b[0m\u001b[0;34m\u001b[0m\u001b[0m\n\u001b[1;32m   2009\u001b[0m         \u001b[0;32mif\u001b[0m \u001b[0mlen\u001b[0m\u001b[0;34m(\u001b[0m\u001b[0mto_add\u001b[0m\u001b[0;34m)\u001b[0m \u001b[0;32mand\u001b[0m \u001b[0;32mnot\u001b[0m \u001b[0misna\u001b[0m\u001b[0;34m(\u001b[0m\u001b[0mto_add\u001b[0m\u001b[0;34m)\u001b[0m\u001b[0;34m.\u001b[0m\u001b[0mall\u001b[0m\u001b[0;34m(\u001b[0m\u001b[0;34m)\u001b[0m\u001b[0;34m:\u001b[0m\u001b[0;34m\u001b[0m\u001b[0;34m\u001b[0m\u001b[0m\n\u001b[0;32m-> 2010\u001b[0;31m             raise ValueError(\n\u001b[0m\u001b[1;32m   2011\u001b[0m                 \u001b[0;34m\"Cannot setitem on a Categorical with a new \"\u001b[0m\u001b[0;34m\u001b[0m\u001b[0;34m\u001b[0m\u001b[0m\n\u001b[1;32m   2012\u001b[0m                 \u001b[0;34m\"category, set the categories first\"\u001b[0m\u001b[0;34m\u001b[0m\u001b[0;34m\u001b[0m\u001b[0m\n",
      "\u001b[0;31mValueError\u001b[0m: Cannot setitem on a Categorical with a new category, set the categories first"
     ]
    }
   ],
   "source": [
    "a[0] = 'OK'"
   ]
  },
  {
   "cell_type": "markdown",
   "metadata": {},
   "source": [
    "While the primary intent of categoricals was to model data with a fixed set of allowed values, their implementation suggests another use: saving memory and improving performance.\n",
    "\n",
    "When you make a Categorical, pandas will *factorize* the values. This creates a mapping between the original value and an integer code."
   ]
  },
  {
   "cell_type": "code",
   "execution_count": 15,
   "metadata": {},
   "outputs": [
    {
     "data": {
      "text/plain": [
       "['good', 'better', 'good', 'best']\n",
       "Categories (3, object): ['good' < 'better' < 'best']"
      ]
     },
     "execution_count": 15,
     "metadata": {},
     "output_type": "execute_result"
    }
   ],
   "source": [
    "a"
   ]
  },
  {
   "cell_type": "code",
   "execution_count": 16,
   "metadata": {},
   "outputs": [
    {
     "data": {
      "text/plain": [
       "Index(['good', 'better', 'best'], dtype='object')"
      ]
     },
     "execution_count": 16,
     "metadata": {},
     "output_type": "execute_result"
    }
   ],
   "source": [
    "a.categories"
   ]
  },
  {
   "cell_type": "code",
   "execution_count": 17,
   "metadata": {},
   "outputs": [
    {
     "data": {
      "text/plain": [
       "array([0, 1, 0, 2], dtype=int8)"
      ]
     },
     "execution_count": 17,
     "metadata": {},
     "output_type": "execute_result"
    }
   ],
   "source": [
    "a.codes"
   ]
  },
  {
   "cell_type": "markdown",
   "metadata": {},
   "source": [
    "Notice two things:\n",
    "\n",
    "1. The value `\"good\"` is associated with code `0`, the first element in `.categories`.\n",
    "2. The codes are stored as `int8`.\n",
    "\n",
    "When you have many repeated values, whose regular representation are larger than int8, then storing the data as Categorical can have some performance benefits.\n",
    "\n",
    "To demonstrate this, let's suppose you had a table with every adult resident of the United States (about 321,000,000 rows) where one column stores the state abbreviation as a string.\n",
    "\n",
    "Just storing this as an object-dtype array would cost the size of the 2-character string times the 321,000,000 occurances:"
   ]
  },
  {
   "cell_type": "code",
   "execution_count": 20,
   "metadata": {},
   "outputs": [
    {
     "name": "stdout",
     "output_type": "stream",
     "text": [
      "16,371 MB\n"
     ]
    }
   ],
   "source": [
    "import sys\n",
    "\n",
    "population = 321_000_000\n",
    "bytes_per_person = sys.getsizeof(\"AL\")  # two characters per state\n",
    "nbytes = population * bytes_per_person\n",
    "print(\"{:,d} MB\".format(nbytes // 1_000_000))"
   ]
  },
  {
   "cell_type": "markdown",
   "metadata": {},
   "source": [
    "Or about 16GB. How many MB would you need to store the same as a Categorical?"
   ]
  },
  {
   "cell_type": "code",
   "execution_count": 27,
   "metadata": {},
   "outputs": [
    {
     "name": "stdout",
     "output_type": "stream",
     "text": [
      "321 MB\n"
     ]
    }
   ],
   "source": [
    "character_bytes = 50 * sys.getsizeof(\"AL\")  # store all the states onces\n",
    "bytes_per_person = 1  # How many bytes does each row take? Which array is this? Check `.dtype.itemsize`\n",
    "# \n",
    "nbytes = (character_bytes + (population * bytes_per_person))\n",
    "\n",
    "print(\"{:,d} MB\".format(nbytes // 1_000_000))"
   ]
  },
  {
   "cell_type": "code",
   "execution_count": 28,
   "metadata": {},
   "outputs": [
    {
     "name": "stdout",
     "output_type": "stream",
     "text": [
      "321 MB\n"
     ]
    }
   ],
   "source": [
    "# %load solutions/performance_categorical.py\n",
    "\n",
    "character_bytes = 50 * sys.getsizeof(\"AL\")  # Store all the states once\n",
    "bytes_per_person = 1  # np.int8 = 1 byte per element\n",
    "nbytes = (character_bytes + (population * bytes_per_person))\n",
    "print(\"{:,d} MB\".format(nbytes // 1_000_000))\n"
   ]
  },
  {
   "cell_type": "markdown",
   "metadata": {},
   "source": [
    "So when there are many repeated values the savings can be dramatic."
   ]
  },
  {
   "cell_type": "markdown",
   "metadata": {},
   "source": [
    "## Vectorization\n",
    "\n",
    "Just like with NumPy, *vectorization* is key to getting good performance out of pandas.\n",
    "**The short definition is \"don't do for loops\", the longer definition is \"let NumPy do the for loop in C\".**\n",
    "\n",
    "As an example, let's grab some data on airports locations. We'll compote the distances between pairs of airports."
   ]
  },
  {
   "cell_type": "code",
   "execution_count": 29,
   "metadata": {},
   "outputs": [
    {
     "data": {
      "text/html": [
       "<div>\n",
       "<style scoped>\n",
       "    .dataframe tbody tr th:only-of-type {\n",
       "        vertical-align: middle;\n",
       "    }\n",
       "\n",
       "    .dataframe tbody tr th {\n",
       "        vertical-align: top;\n",
       "    }\n",
       "\n",
       "    .dataframe thead th {\n",
       "        text-align: right;\n",
       "    }\n",
       "</style>\n",
       "<table border=\"1\" class=\"dataframe\">\n",
       "  <thead>\n",
       "    <tr style=\"text-align: right;\">\n",
       "      <th></th>\n",
       "      <th>name</th>\n",
       "      <th>city</th>\n",
       "      <th>state</th>\n",
       "      <th>country</th>\n",
       "      <th>latitude</th>\n",
       "      <th>longitude</th>\n",
       "    </tr>\n",
       "    <tr>\n",
       "      <th>iata</th>\n",
       "      <th></th>\n",
       "      <th></th>\n",
       "      <th></th>\n",
       "      <th></th>\n",
       "      <th></th>\n",
       "      <th></th>\n",
       "    </tr>\n",
       "  </thead>\n",
       "  <tbody>\n",
       "    <tr>\n",
       "      <th>00M</th>\n",
       "      <td>Thigpen</td>\n",
       "      <td>Bay Springs</td>\n",
       "      <td>MS</td>\n",
       "      <td>USA</td>\n",
       "      <td>31.953765</td>\n",
       "      <td>-89.234505</td>\n",
       "    </tr>\n",
       "    <tr>\n",
       "      <th>00R</th>\n",
       "      <td>Livingston Municipal</td>\n",
       "      <td>Livingston</td>\n",
       "      <td>TX</td>\n",
       "      <td>USA</td>\n",
       "      <td>30.685861</td>\n",
       "      <td>-95.017928</td>\n",
       "    </tr>\n",
       "    <tr>\n",
       "      <th>00V</th>\n",
       "      <td>Meadow Lake</td>\n",
       "      <td>Colorado Springs</td>\n",
       "      <td>CO</td>\n",
       "      <td>USA</td>\n",
       "      <td>38.945749</td>\n",
       "      <td>-104.569893</td>\n",
       "    </tr>\n",
       "    <tr>\n",
       "      <th>01G</th>\n",
       "      <td>Perry-Warsaw</td>\n",
       "      <td>Perry</td>\n",
       "      <td>NY</td>\n",
       "      <td>USA</td>\n",
       "      <td>42.741347</td>\n",
       "      <td>-78.052081</td>\n",
       "    </tr>\n",
       "    <tr>\n",
       "      <th>01J</th>\n",
       "      <td>Hilliard Airpark</td>\n",
       "      <td>Hilliard</td>\n",
       "      <td>FL</td>\n",
       "      <td>USA</td>\n",
       "      <td>30.688012</td>\n",
       "      <td>-81.905944</td>\n",
       "    </tr>\n",
       "    <tr>\n",
       "      <th>...</th>\n",
       "      <td>...</td>\n",
       "      <td>...</td>\n",
       "      <td>...</td>\n",
       "      <td>...</td>\n",
       "      <td>...</td>\n",
       "      <td>...</td>\n",
       "    </tr>\n",
       "    <tr>\n",
       "      <th>57B</th>\n",
       "      <td>Islesboro</td>\n",
       "      <td>Islesboro</td>\n",
       "      <td>ME</td>\n",
       "      <td>USA</td>\n",
       "      <td>44.302856</td>\n",
       "      <td>-68.910587</td>\n",
       "    </tr>\n",
       "    <tr>\n",
       "      <th>57C</th>\n",
       "      <td>East Troy Municipal</td>\n",
       "      <td>East Troy</td>\n",
       "      <td>WI</td>\n",
       "      <td>USA</td>\n",
       "      <td>42.797111</td>\n",
       "      <td>-88.372500</td>\n",
       "    </tr>\n",
       "    <tr>\n",
       "      <th>59B</th>\n",
       "      <td>Newton</td>\n",
       "      <td>Jackman</td>\n",
       "      <td>ME</td>\n",
       "      <td>USA</td>\n",
       "      <td>45.631991</td>\n",
       "      <td>-70.247289</td>\n",
       "    </tr>\n",
       "    <tr>\n",
       "      <th>5A4</th>\n",
       "      <td>Okolona Mun.-Richard M. Stovall</td>\n",
       "      <td>Okolona</td>\n",
       "      <td>MS</td>\n",
       "      <td>USA</td>\n",
       "      <td>34.015805</td>\n",
       "      <td>-88.726189</td>\n",
       "    </tr>\n",
       "    <tr>\n",
       "      <th>5A6</th>\n",
       "      <td>Winona-Montgomery County</td>\n",
       "      <td>Winona</td>\n",
       "      <td>MS</td>\n",
       "      <td>USA</td>\n",
       "      <td>33.465401</td>\n",
       "      <td>-89.729248</td>\n",
       "    </tr>\n",
       "  </tbody>\n",
       "</table>\n",
       "<p>500 rows × 6 columns</p>\n",
       "</div>"
      ],
      "text/plain": [
       "                                 name              city state country  \\\n",
       "iata                                                                    \n",
       "00M                           Thigpen       Bay Springs    MS     USA   \n",
       "00R              Livingston Municipal        Livingston    TX     USA   \n",
       "00V                       Meadow Lake  Colorado Springs    CO     USA   \n",
       "01G                      Perry-Warsaw             Perry    NY     USA   \n",
       "01J                  Hilliard Airpark          Hilliard    FL     USA   \n",
       "...                               ...               ...   ...     ...   \n",
       "57B                         Islesboro         Islesboro    ME     USA   \n",
       "57C               East Troy Municipal         East Troy    WI     USA   \n",
       "59B                            Newton           Jackman    ME     USA   \n",
       "5A4   Okolona Mun.-Richard M. Stovall           Okolona    MS     USA   \n",
       "5A6          Winona-Montgomery County            Winona    MS     USA   \n",
       "\n",
       "       latitude   longitude  \n",
       "iata                         \n",
       "00M   31.953765  -89.234505  \n",
       "00R   30.685861  -95.017928  \n",
       "00V   38.945749 -104.569893  \n",
       "01G   42.741347  -78.052081  \n",
       "01J   30.688012  -81.905944  \n",
       "...         ...         ...  \n",
       "57B   44.302856  -68.910587  \n",
       "57C   42.797111  -88.372500  \n",
       "59B   45.631991  -70.247289  \n",
       "5A4   34.015805  -88.726189  \n",
       "5A6   33.465401  -89.729248  \n",
       "\n",
       "[500 rows x 6 columns]"
      ]
     },
     "execution_count": 29,
     "metadata": {},
     "output_type": "execute_result"
    }
   ],
   "source": [
    "airports = pd.read_csv(\n",
    "    \"https://vega.github.io/vega-datasets/data/airports.csv\",\n",
    "    index_col=\"iata\",\n",
    "    nrows=500,\n",
    ")\n",
    "airports"
   ]
  },
  {
   "cell_type": "markdown",
   "metadata": {},
   "source": [
    "This next block is a bit of pandas magic to build a DataFrame with each pair."
   ]
  },
  {
   "cell_type": "code",
   "execution_count": 30,
   "metadata": {},
   "outputs": [
    {
     "data": {
      "text/html": [
       "<div>\n",
       "<style scoped>\n",
       "    .dataframe tbody tr th:only-of-type {\n",
       "        vertical-align: middle;\n",
       "    }\n",
       "\n",
       "    .dataframe tbody tr th {\n",
       "        vertical-align: top;\n",
       "    }\n",
       "\n",
       "    .dataframe thead th {\n",
       "        text-align: right;\n",
       "    }\n",
       "</style>\n",
       "<table border=\"1\" class=\"dataframe\">\n",
       "  <thead>\n",
       "    <tr style=\"text-align: right;\">\n",
       "      <th></th>\n",
       "      <th></th>\n",
       "      <th>longitude_orig</th>\n",
       "      <th>latitude_orig</th>\n",
       "      <th>longitude_dest</th>\n",
       "      <th>latitude_dest</th>\n",
       "    </tr>\n",
       "    <tr>\n",
       "      <th>orig</th>\n",
       "      <th>dest</th>\n",
       "      <th></th>\n",
       "      <th></th>\n",
       "      <th></th>\n",
       "      <th></th>\n",
       "    </tr>\n",
       "  </thead>\n",
       "  <tbody>\n",
       "    <tr>\n",
       "      <th rowspan=\"5\" valign=\"top\">00M</th>\n",
       "      <th>00M</th>\n",
       "      <td>-89.234505</td>\n",
       "      <td>31.953765</td>\n",
       "      <td>-89.234505</td>\n",
       "      <td>31.953765</td>\n",
       "    </tr>\n",
       "    <tr>\n",
       "      <th>00R</th>\n",
       "      <td>-89.234505</td>\n",
       "      <td>31.953765</td>\n",
       "      <td>-95.017928</td>\n",
       "      <td>30.685861</td>\n",
       "    </tr>\n",
       "    <tr>\n",
       "      <th>00V</th>\n",
       "      <td>-89.234505</td>\n",
       "      <td>31.953765</td>\n",
       "      <td>-104.569893</td>\n",
       "      <td>38.945749</td>\n",
       "    </tr>\n",
       "    <tr>\n",
       "      <th>01G</th>\n",
       "      <td>-89.234505</td>\n",
       "      <td>31.953765</td>\n",
       "      <td>-78.052081</td>\n",
       "      <td>42.741347</td>\n",
       "    </tr>\n",
       "    <tr>\n",
       "      <th>01J</th>\n",
       "      <td>-89.234505</td>\n",
       "      <td>31.953765</td>\n",
       "      <td>-81.905944</td>\n",
       "      <td>30.688012</td>\n",
       "    </tr>\n",
       "    <tr>\n",
       "      <th>...</th>\n",
       "      <th>...</th>\n",
       "      <td>...</td>\n",
       "      <td>...</td>\n",
       "      <td>...</td>\n",
       "      <td>...</td>\n",
       "    </tr>\n",
       "    <tr>\n",
       "      <th rowspan=\"5\" valign=\"top\">5A6</th>\n",
       "      <th>57B</th>\n",
       "      <td>-89.729248</td>\n",
       "      <td>33.465401</td>\n",
       "      <td>-68.910587</td>\n",
       "      <td>44.302856</td>\n",
       "    </tr>\n",
       "    <tr>\n",
       "      <th>57C</th>\n",
       "      <td>-89.729248</td>\n",
       "      <td>33.465401</td>\n",
       "      <td>-88.372500</td>\n",
       "      <td>42.797111</td>\n",
       "    </tr>\n",
       "    <tr>\n",
       "      <th>59B</th>\n",
       "      <td>-89.729248</td>\n",
       "      <td>33.465401</td>\n",
       "      <td>-70.247289</td>\n",
       "      <td>45.631991</td>\n",
       "    </tr>\n",
       "    <tr>\n",
       "      <th>5A4</th>\n",
       "      <td>-89.729248</td>\n",
       "      <td>33.465401</td>\n",
       "      <td>-88.726189</td>\n",
       "      <td>34.015805</td>\n",
       "    </tr>\n",
       "    <tr>\n",
       "      <th>5A6</th>\n",
       "      <td>-89.729248</td>\n",
       "      <td>33.465401</td>\n",
       "      <td>-89.729248</td>\n",
       "      <td>33.465401</td>\n",
       "    </tr>\n",
       "  </tbody>\n",
       "</table>\n",
       "<p>250000 rows × 4 columns</p>\n",
       "</div>"
      ],
      "text/plain": [
       "           longitude_orig  latitude_orig  longitude_dest  latitude_dest\n",
       "orig dest                                                              \n",
       "00M  00M       -89.234505      31.953765      -89.234505      31.953765\n",
       "     00R       -89.234505      31.953765      -95.017928      30.685861\n",
       "     00V       -89.234505      31.953765     -104.569893      38.945749\n",
       "     01G       -89.234505      31.953765      -78.052081      42.741347\n",
       "     01J       -89.234505      31.953765      -81.905944      30.688012\n",
       "...                   ...            ...             ...            ...\n",
       "5A6  57B       -89.729248      33.465401      -68.910587      44.302856\n",
       "     57C       -89.729248      33.465401      -88.372500      42.797111\n",
       "     59B       -89.729248      33.465401      -70.247289      45.631991\n",
       "     5A4       -89.729248      33.465401      -88.726189      34.015805\n",
       "     5A6       -89.729248      33.465401      -89.729248      33.465401\n",
       "\n",
       "[250000 rows x 4 columns]"
      ]
     },
     "execution_count": 30,
     "metadata": {},
     "output_type": "execute_result"
    }
   ],
   "source": [
    "columns = [\"longitude\", \"latitude\"]\n",
    "idx = pd.MultiIndex.from_product([airports.index, airports.index],\n",
    "                                 names=['orig', 'dest'])\n",
    "\n",
    "pairs = pd.concat([\n",
    "    airports[columns]\n",
    "        .rename(columns = lambda x: f'{x}_orig')\n",
    "        .reindex(idx, level='orig'),\n",
    "    airports[columns]\n",
    "        .rename(columns = lambda x: f'{x}_dest')\n",
    "        .reindex(idx, level='dest')\n",
    "    ], axis=\"columns\"\n",
    ")\n",
    "pairs"
   ]
  },
  {
   "cell_type": "code",
   "execution_count": 31,
   "metadata": {},
   "outputs": [],
   "source": [
    "import math\n",
    "\n",
    "\n",
    "def gcd_py(lat1, lng1, lat2, lng2):\n",
    "    '''\n",
    "    Calculate great circle distance between two points.\n",
    "    https://www.johndcook.com/blog/python_longitude_latitude/\n",
    "\n",
    "    Parameters\n",
    "    ----------\n",
    "    lat1, lng1, lat2, lng2: float\n",
    "\n",
    "    Returns\n",
    "    -------\n",
    "    distance:\n",
    "      distance from ``(lat1, lng1)`` to ``(lat2, lng2)`` in kilometers.\n",
    "    '''\n",
    "    degrees_to_radians = math.pi / 180.0\n",
    "    ϕ1 = (90 - lat1) * degrees_to_radians\n",
    "    ϕ2 = (90 - lat2) * degrees_to_radians\n",
    "\n",
    "    θ1 = lng1 * degrees_to_radians\n",
    "    θ2 = lng2 * degrees_to_radians\n",
    "\n",
    "    cos = (math.sin(ϕ1) * math.sin(ϕ2) * math.cos(θ1 - θ2) +\n",
    "           math.cos(ϕ1) * math.cos(ϕ2))\n",
    "    # round to avoid precision issues on identical points causing ValueErrors\n",
    "    cos = round(cos, 8)\n",
    "    arc = math.acos(cos)\n",
    "    return arc * 6373  # radius of earth, in kilometers"
   ]
  },
  {
   "cell_type": "code",
   "execution_count": 32,
   "metadata": {},
   "outputs": [],
   "source": [
    "def gcd_vec(lat1, lng1, lat2, lng2):\n",
    "    '''\n",
    "    Calculate great circle distance.\n",
    "    https://www.johndcook.com/blog/python_longitude_latitude/\n",
    "\n",
    "    Parameters\n",
    "    ----------\n",
    "    lat1, lng1, lat2, lng2: float or array of float\n",
    "\n",
    "    Returns\n",
    "    -------\n",
    "    distance:\n",
    "      distance from ``(lat1, lng1)`` to ``(lat2, lng2)`` in kilometers.\n",
    "    '''\n",
    "    ϕ1 = np.deg2rad(90 - lat1)\n",
    "    ϕ2 = np.deg2rad(90 - lat2)\n",
    "\n",
    "    θ1 = np.deg2rad(lng1)\n",
    "    θ2 = np.deg2rad(lng2)\n",
    "\n",
    "    cos = (np.sin(ϕ1) * np.sin(ϕ2) * np.cos(θ1 - θ2) +\n",
    "           np.cos(ϕ1) * np.cos(ϕ2))\n",
    "    # round to avoid precision issues on identical points causing warnings\n",
    "    cos = np.round(cos, 8)\n",
    "    arc = np.arccos(cos)\n",
    "    return arc * 6373 # radius of earth, in kilometers"
   ]
  },
  {
   "cell_type": "code",
   "execution_count": 40,
   "metadata": {},
   "outputs": [
    {
     "name": "stdout",
     "output_type": "stream",
     "text": [
      "CPU times: user 4.16 s, sys: 49.6 ms, total: 4.21 s\n",
      "Wall time: 4.22 s\n"
     ]
    },
    {
     "data": {
      "text/plain": [
       "orig  dest\n",
       "00M   00M        0.000000\n",
       "      00R      567.271820\n",
       "      00V     1589.259385\n",
       "      01G     1551.898663\n",
       "      01J      710.296324\n",
       "                 ...     \n",
       "5A6   57B     2158.573499\n",
       "      57C     1044.687644\n",
       "      59B     2140.173926\n",
       "      5A4      111.155006\n",
       "      5A6        0.000000\n",
       "Length: 250000, dtype: float64"
      ]
     },
     "execution_count": 40,
     "metadata": {},
     "output_type": "execute_result"
    }
   ],
   "source": [
    "%%time\n",
    "# gcd_py with DataFrame.apply\n",
    "r = pairs.apply(\n",
    "    lambda x: gcd_py(x['latitude_orig'],\n",
    "                     x['longitude_orig'],\n",
    "                     x['latitude_dest'],\n",
    "                     x['longitude_dest']),\n",
    "                axis=\"columns\"\n",
    ")\n",
    "\n",
    "r"
   ]
  },
  {
   "cell_type": "code",
   "execution_count": 42,
   "metadata": {},
   "outputs": [
    {
     "name": "stdout",
     "output_type": "stream",
     "text": [
      "CPU times: user 489 ms, sys: 10.6 ms, total: 500 ms\n",
      "Wall time: 499 ms\n"
     ]
    },
    {
     "data": {
      "text/plain": [
       "orig  dest\n",
       "00M   00M        0.000000\n",
       "      00R      643.271159\n",
       "      00V     1705.150273\n",
       "      01G     1245.424495\n",
       "      01J      815.177587\n",
       "                 ...     \n",
       "5A6   57B     2316.199986\n",
       "      57C      151.388805\n",
       "      59B     2167.660415\n",
       "      5A4      111.570797\n",
       "      5A6        0.000000\n",
       "Length: 250000, dtype: float64"
      ]
     },
     "execution_count": 42,
     "metadata": {},
     "output_type": "execute_result"
    }
   ],
   "source": [
    "%%time\n",
    "# gcd_py with manual iteration\n",
    "r = pd.Series([gcd_py(*x) for x in pairs.itertuples(index=False)],\n",
    "              index=pairs.index)\n",
    "\n",
    "r"
   ]
  },
  {
   "cell_type": "code",
   "execution_count": 38,
   "metadata": {},
   "outputs": [
    {
     "name": "stdout",
     "output_type": "stream",
     "text": [
      "CPU times: user 166 ms, sys: 10.1 ms, total: 176 ms\n",
      "Wall time: 173 ms\n"
     ]
    },
    {
     "data": {
      "text/plain": [
       "orig  dest\n",
       "00M   00M        0.000000\n",
       "      00R      567.271820\n",
       "      00V     1589.259385\n",
       "      01G     1551.898663\n",
       "      01J      710.296324\n",
       "                 ...     \n",
       "5A6   57B     2158.573499\n",
       "      57C     1044.687644\n",
       "      59B     2140.173926\n",
       "      5A4      111.155006\n",
       "      5A6        0.000000\n",
       "Length: 250000, dtype: float64"
      ]
     },
     "execution_count": 38,
     "metadata": {},
     "output_type": "execute_result"
    }
   ],
   "source": [
    "%%time\n",
    "# gcd_vec\n",
    "r = gcd_vec(pairs['latitude_orig'], pairs['longitude_orig'],\n",
    "            pairs['latitude_dest'], pairs['longitude_dest'])\n",
    "r"
   ]
  },
  {
   "cell_type": "markdown",
   "metadata": {},
   "source": [
    "For more, consult these pages from pandas' documentation:\n",
    "\n",
    "* Enhancing performance: https://pandas.pydata.org/docs/user_guide/enhancingperf.html\n",
    "* Scaling to larger datasets: https://pandas.pydata.org/docs/user_guide/scale.html"
   ]
  },
  {
   "cell_type": "markdown",
   "metadata": {},
   "source": [
    "## Constructing DataFrames\n",
    "\n",
    "pandas DataFrames are somewhat complex objects. They're a collection of many NumPy (or extension) arrays, and index and row labels. Creating them has a decent amount of overhead over a simple NumPy array or Python list.\n",
    "\n",
    "This can be important when you're collecting many similar files into a single DataFrame. Suppose we had a collection of files\n",
    "\n",
    "```\n",
    "data/\n",
    "  01.json\n",
    "  02.json\n",
    "  ...\n",
    "  99.json\n",
    "```\n",
    "\n",
    "Suppose we wanted to read all of these into a single collection. In pure Python, we would probably create an empty list and repeatedly `.append()` to it, perhaps using a list comprehension:\n",
    "\n",
    "```python\n",
    "data = []\n",
    "for path in Path(\"data\").glob(\"*.json\"):\n",
    "    with path.open() as file:\n",
    "        file_data = json.load(file)\n",
    "        data.append(file_data)\n",
    "```\n",
    "\n",
    "But with pandas, where creating or growing a DataFrame is much more expensive relative to a Python list, this is slow. Let's run some benchmarks:"
   ]
  },
  {
   "cell_type": "code",
   "execution_count": 43,
   "metadata": {},
   "outputs": [],
   "source": [
    "import time\n",
    "\n",
    "size_per = 5000\n",
    "N = 100\n",
    "cols = list('abcd')"
   ]
  },
  {
   "cell_type": "code",
   "execution_count": 44,
   "metadata": {},
   "outputs": [],
   "source": [
    "def timed(n=30):\n",
    "    '''\n",
    "    Running a microbenchmark.\n",
    "    '''\n",
    "    def deco(func):\n",
    "        def wrapper(*args, **kwargs):\n",
    "            timings = []\n",
    "            for i in range(n):\n",
    "                t0 = time.time()\n",
    "                func(*args, **kwargs)\n",
    "                t1 = time.time()\n",
    "                timings.append(t1 - t0)\n",
    "            return timings\n",
    "        return wrapper\n",
    "    return deco"
   ]
  },
  {
   "cell_type": "code",
   "execution_count": null,
   "metadata": {},
   "outputs": [],
   "source": [
    "@timed(60)\n",
    "def append_df():\n",
    "    '''\n",
    "    The pythonic (bad) way\n",
    "    '''\n",
    "    df = pd.DataFrame(columns=cols)\n",
    "    for _ in range(N):\n",
    "        df.append(pd.DataFrame(np.random.randn(size_per, 4), columns=cols))\n",
    "    return df\n",
    "\n",
    "@timed(60)\n",
    "def concat_df():\n",
    "    '''\n",
    "    The pandorabe (good) way\n",
    "    '''\n",
    "    dfs = [pd.DataFrame(np.random.randn(size_per, 4), columns=cols)\n",
    "           for _ in range(N)]\n",
    "    return pd.concat(dfs, ignore_index=True)"
   ]
  },
  {
   "cell_type": "code",
   "execution_count": null,
   "metadata": {},
   "outputs": [],
   "source": [
    "t_append = append_df()\n",
    "t_concat = concat_df()\n",
    "\n",
    "timings = (pd.DataFrame({\"Append\": t_append, \"Concat\": t_concat})\n",
    "             .stack()\n",
    "             .reset_index()\n",
    "             .rename(columns={0: 'Time (s)',\n",
    "                              'level_1': 'Method'}))\n",
    "timings.head()"
   ]
  },
  {
   "cell_type": "code",
   "execution_count": null,
   "metadata": {},
   "outputs": [],
   "source": [
    "import seaborn as sns\n",
    "import matplotlib.pyplot as plt"
   ]
  },
  {
   "cell_type": "code",
   "execution_count": null,
   "metadata": {},
   "outputs": [],
   "source": [
    "fig, ax = plt.subplots(figsize=(4, 6))\n",
    "sns.boxplot(x='Method', y='Time (s)', data=timings, ax=ax);"
   ]
  },
  {
   "cell_type": "markdown",
   "metadata": {},
   "source": [
    "## Using Numba\n",
    "\n",
    "Recent versions of pandas optionally make extensive use of Numba to speed up certain operations. This is helpful when you have some custom user-defined function that you're passing to one of pandas' `.apply`, `.agg`, or `.transform` methods (in a rolling or groupby context).\n",
    "\n",
    "Consider something like a `df.rolling(n).apply(func)`. At a high level, that operation requires\n",
    "\n",
    "1. Splitting the input into groups\n",
    "2. Applying `func` to each group\n",
    "3. Collecting the results into an output group\n",
    "\n",
    "\n",
    "<img src=\"https://docs.google.com/drawings/d/e/2PACX-1vSpZlYnXg8MfRHlRjm8JDcxkCjrQfI2XoS06JikaoRCuZiQUUgyo5yjWASU-ynNcucK2-eumooIty1-/pub?w=960&amp;h=720\">\n",
    "\n",
    "Now let's suppose we wanted to speed that up with Numba. As a user, you could `@numba.jit` your function. Depending on what your user defined function is doing, that could lead to a nice speedup. But there would still be a bunch of overhead *around* your function that would be relatively slow. Pandas would need to slice into the array (from Python), call your fast function (now in fast machine code), and jump back to Python to form the output array.\n",
    "\n",
    "<img src=\"https://docs.google.com/drawings/d/e/2PACX-1vRwvBtrV51LU2qfOxXUrggJ7h0-bTeSSozatQ7AECyhSOxEdO0ivfoXNhwWM5Q-lZvRBxmPMeAX5hzf/pub?w=960&amp;h=540\">\n",
    "\n",
    "When you use the `engine=\"numba\"` keyword, pandas and Numba able to JIT compile a lot more than just your function. We're able to JIT the entire splitting, function application, and result combination so that the whole things stays in fast machine code.\n",
    "\n",
    "<img src=\"https://docs.google.com/drawings/d/e/2PACX-1vRYpI3MI4LKZQSz2VUAxQrxiN6wAlnmTCLOF2VcYTDtF5dJEbSE6IY1MgFH8w8GH84Q2Suu9ngjgYD0/pub?w=960&amp;h=540\">\n",
    "\n",
    "For example, let's compute the mean absolute deviation. Pandas doesn't have a builtin version."
   ]
  },
  {
   "cell_type": "code",
   "execution_count": 45,
   "metadata": {},
   "outputs": [],
   "source": [
    "def mad(x):\n",
    "    return np.fabs(x - x.mean()).mean()"
   ]
  },
  {
   "cell_type": "code",
   "execution_count": 46,
   "metadata": {},
   "outputs": [
    {
     "data": {
      "text/html": [
       "<div>\n",
       "<style scoped>\n",
       "    .dataframe tbody tr th:only-of-type {\n",
       "        vertical-align: middle;\n",
       "    }\n",
       "\n",
       "    .dataframe tbody tr th {\n",
       "        vertical-align: top;\n",
       "    }\n",
       "\n",
       "    .dataframe thead th {\n",
       "        text-align: right;\n",
       "    }\n",
       "</style>\n",
       "<table border=\"1\" class=\"dataframe\">\n",
       "  <thead>\n",
       "    <tr style=\"text-align: right;\">\n",
       "      <th></th>\n",
       "      <th>0</th>\n",
       "      <th>1</th>\n",
       "      <th>2</th>\n",
       "      <th>3</th>\n",
       "      <th>4</th>\n",
       "      <th>5</th>\n",
       "      <th>6</th>\n",
       "      <th>7</th>\n",
       "      <th>8</th>\n",
       "      <th>9</th>\n",
       "    </tr>\n",
       "  </thead>\n",
       "  <tbody>\n",
       "    <tr>\n",
       "      <th>0</th>\n",
       "      <td>0.613421</td>\n",
       "      <td>-0.219586</td>\n",
       "      <td>-0.386634</td>\n",
       "      <td>-0.448110</td>\n",
       "      <td>-0.438090</td>\n",
       "      <td>2.196406</td>\n",
       "      <td>-0.583671</td>\n",
       "      <td>-0.952862</td>\n",
       "      <td>1.856994</td>\n",
       "      <td>-0.274576</td>\n",
       "    </tr>\n",
       "    <tr>\n",
       "      <th>1</th>\n",
       "      <td>-0.381224</td>\n",
       "      <td>-0.364339</td>\n",
       "      <td>-0.250863</td>\n",
       "      <td>-0.309085</td>\n",
       "      <td>-0.147865</td>\n",
       "      <td>-2.031275</td>\n",
       "      <td>-1.640106</td>\n",
       "      <td>0.437354</td>\n",
       "      <td>1.436400</td>\n",
       "      <td>-0.461583</td>\n",
       "    </tr>\n",
       "    <tr>\n",
       "      <th>2</th>\n",
       "      <td>-0.316414</td>\n",
       "      <td>-1.248216</td>\n",
       "      <td>-1.296935</td>\n",
       "      <td>-0.151574</td>\n",
       "      <td>1.217946</td>\n",
       "      <td>1.250786</td>\n",
       "      <td>1.463354</td>\n",
       "      <td>-0.678831</td>\n",
       "      <td>-0.364008</td>\n",
       "      <td>-0.674843</td>\n",
       "    </tr>\n",
       "    <tr>\n",
       "      <th>3</th>\n",
       "      <td>0.058498</td>\n",
       "      <td>0.233325</td>\n",
       "      <td>-0.366719</td>\n",
       "      <td>-0.352766</td>\n",
       "      <td>1.358817</td>\n",
       "      <td>1.295728</td>\n",
       "      <td>0.230338</td>\n",
       "      <td>-0.268212</td>\n",
       "      <td>-0.275032</td>\n",
       "      <td>-1.718011</td>\n",
       "    </tr>\n",
       "    <tr>\n",
       "      <th>4</th>\n",
       "      <td>1.733322</td>\n",
       "      <td>-0.245764</td>\n",
       "      <td>-0.448117</td>\n",
       "      <td>0.000172</td>\n",
       "      <td>-1.094962</td>\n",
       "      <td>0.512798</td>\n",
       "      <td>1.149555</td>\n",
       "      <td>-0.090714</td>\n",
       "      <td>0.435362</td>\n",
       "      <td>0.264017</td>\n",
       "    </tr>\n",
       "    <tr>\n",
       "      <th>...</th>\n",
       "      <td>...</td>\n",
       "      <td>...</td>\n",
       "      <td>...</td>\n",
       "      <td>...</td>\n",
       "      <td>...</td>\n",
       "      <td>...</td>\n",
       "      <td>...</td>\n",
       "      <td>...</td>\n",
       "      <td>...</td>\n",
       "      <td>...</td>\n",
       "    </tr>\n",
       "    <tr>\n",
       "      <th>9995</th>\n",
       "      <td>-0.618918</td>\n",
       "      <td>0.380435</td>\n",
       "      <td>-1.083644</td>\n",
       "      <td>1.317592</td>\n",
       "      <td>-0.256465</td>\n",
       "      <td>0.288949</td>\n",
       "      <td>-0.802881</td>\n",
       "      <td>0.678735</td>\n",
       "      <td>-0.413475</td>\n",
       "      <td>0.954971</td>\n",
       "    </tr>\n",
       "    <tr>\n",
       "      <th>9996</th>\n",
       "      <td>-1.083272</td>\n",
       "      <td>0.417739</td>\n",
       "      <td>0.435016</td>\n",
       "      <td>0.754278</td>\n",
       "      <td>0.802134</td>\n",
       "      <td>0.494616</td>\n",
       "      <td>-1.702661</td>\n",
       "      <td>-1.701113</td>\n",
       "      <td>0.551393</td>\n",
       "      <td>-0.468319</td>\n",
       "    </tr>\n",
       "    <tr>\n",
       "      <th>9997</th>\n",
       "      <td>0.185284</td>\n",
       "      <td>0.321419</td>\n",
       "      <td>-0.001564</td>\n",
       "      <td>0.777069</td>\n",
       "      <td>-0.039613</td>\n",
       "      <td>0.088319</td>\n",
       "      <td>-0.270248</td>\n",
       "      <td>-0.257946</td>\n",
       "      <td>1.549968</td>\n",
       "      <td>-1.176371</td>\n",
       "    </tr>\n",
       "    <tr>\n",
       "      <th>9998</th>\n",
       "      <td>-0.370743</td>\n",
       "      <td>0.958141</td>\n",
       "      <td>-0.686193</td>\n",
       "      <td>-0.047605</td>\n",
       "      <td>1.478998</td>\n",
       "      <td>-0.414944</td>\n",
       "      <td>-1.378498</td>\n",
       "      <td>-0.961586</td>\n",
       "      <td>0.131339</td>\n",
       "      <td>-0.129489</td>\n",
       "    </tr>\n",
       "    <tr>\n",
       "      <th>9999</th>\n",
       "      <td>1.338547</td>\n",
       "      <td>-1.064510</td>\n",
       "      <td>-0.486309</td>\n",
       "      <td>-0.344970</td>\n",
       "      <td>0.646790</td>\n",
       "      <td>1.349097</td>\n",
       "      <td>-1.188901</td>\n",
       "      <td>-1.036758</td>\n",
       "      <td>0.433712</td>\n",
       "      <td>0.788226</td>\n",
       "    </tr>\n",
       "  </tbody>\n",
       "</table>\n",
       "<p>10000 rows × 10 columns</p>\n",
       "</div>"
      ],
      "text/plain": [
       "             0         1         2         3         4         5         6  \\\n",
       "0     0.613421 -0.219586 -0.386634 -0.448110 -0.438090  2.196406 -0.583671   \n",
       "1    -0.381224 -0.364339 -0.250863 -0.309085 -0.147865 -2.031275 -1.640106   \n",
       "2    -0.316414 -1.248216 -1.296935 -0.151574  1.217946  1.250786  1.463354   \n",
       "3     0.058498  0.233325 -0.366719 -0.352766  1.358817  1.295728  0.230338   \n",
       "4     1.733322 -0.245764 -0.448117  0.000172 -1.094962  0.512798  1.149555   \n",
       "...        ...       ...       ...       ...       ...       ...       ...   \n",
       "9995 -0.618918  0.380435 -1.083644  1.317592 -0.256465  0.288949 -0.802881   \n",
       "9996 -1.083272  0.417739  0.435016  0.754278  0.802134  0.494616 -1.702661   \n",
       "9997  0.185284  0.321419 -0.001564  0.777069 -0.039613  0.088319 -0.270248   \n",
       "9998 -0.370743  0.958141 -0.686193 -0.047605  1.478998 -0.414944 -1.378498   \n",
       "9999  1.338547 -1.064510 -0.486309 -0.344970  0.646790  1.349097 -1.188901   \n",
       "\n",
       "             7         8         9  \n",
       "0    -0.952862  1.856994 -0.274576  \n",
       "1     0.437354  1.436400 -0.461583  \n",
       "2    -0.678831 -0.364008 -0.674843  \n",
       "3    -0.268212 -0.275032 -1.718011  \n",
       "4    -0.090714  0.435362  0.264017  \n",
       "...        ...       ...       ...  \n",
       "9995  0.678735 -0.413475  0.954971  \n",
       "9996 -1.701113  0.551393 -0.468319  \n",
       "9997 -0.257946  1.549968 -1.176371  \n",
       "9998 -0.961586  0.131339 -0.129489  \n",
       "9999 -1.036758  0.433712  0.788226  \n",
       "\n",
       "[10000 rows x 10 columns]"
      ]
     },
     "execution_count": 46,
     "metadata": {},
     "output_type": "execute_result"
    }
   ],
   "source": [
    "ts = pd.DataFrame(np.random.randn(10000, 10))\n",
    "ts"
   ]
  },
  {
   "cell_type": "code",
   "execution_count": 53,
   "metadata": {},
   "outputs": [
    {
     "name": "stdout",
     "output_type": "stream",
     "text": [
      "CPU times: user 1.14 s, sys: 11.5 ms, total: 1.15 s\n",
      "Wall time: 1.15 s\n"
     ]
    },
    {
     "data": {
      "text/html": [
       "<div>\n",
       "<style scoped>\n",
       "    .dataframe tbody tr th:only-of-type {\n",
       "        vertical-align: middle;\n",
       "    }\n",
       "\n",
       "    .dataframe tbody tr th {\n",
       "        vertical-align: top;\n",
       "    }\n",
       "\n",
       "    .dataframe thead th {\n",
       "        text-align: right;\n",
       "    }\n",
       "</style>\n",
       "<table border=\"1\" class=\"dataframe\">\n",
       "  <thead>\n",
       "    <tr style=\"text-align: right;\">\n",
       "      <th></th>\n",
       "      <th>0</th>\n",
       "      <th>1</th>\n",
       "      <th>2</th>\n",
       "      <th>3</th>\n",
       "      <th>4</th>\n",
       "      <th>5</th>\n",
       "      <th>6</th>\n",
       "      <th>7</th>\n",
       "      <th>8</th>\n",
       "      <th>9</th>\n",
       "    </tr>\n",
       "  </thead>\n",
       "  <tbody>\n",
       "    <tr>\n",
       "      <th>0</th>\n",
       "      <td>NaN</td>\n",
       "      <td>NaN</td>\n",
       "      <td>NaN</td>\n",
       "      <td>NaN</td>\n",
       "      <td>NaN</td>\n",
       "      <td>NaN</td>\n",
       "      <td>NaN</td>\n",
       "      <td>NaN</td>\n",
       "      <td>NaN</td>\n",
       "      <td>NaN</td>\n",
       "    </tr>\n",
       "    <tr>\n",
       "      <th>1</th>\n",
       "      <td>NaN</td>\n",
       "      <td>NaN</td>\n",
       "      <td>NaN</td>\n",
       "      <td>NaN</td>\n",
       "      <td>NaN</td>\n",
       "      <td>NaN</td>\n",
       "      <td>NaN</td>\n",
       "      <td>NaN</td>\n",
       "      <td>NaN</td>\n",
       "      <td>NaN</td>\n",
       "    </tr>\n",
       "    <tr>\n",
       "      <th>2</th>\n",
       "      <td>NaN</td>\n",
       "      <td>NaN</td>\n",
       "      <td>NaN</td>\n",
       "      <td>NaN</td>\n",
       "      <td>NaN</td>\n",
       "      <td>NaN</td>\n",
       "      <td>NaN</td>\n",
       "      <td>NaN</td>\n",
       "      <td>NaN</td>\n",
       "      <td>NaN</td>\n",
       "    </tr>\n",
       "    <tr>\n",
       "      <th>3</th>\n",
       "      <td>NaN</td>\n",
       "      <td>NaN</td>\n",
       "      <td>NaN</td>\n",
       "      <td>NaN</td>\n",
       "      <td>NaN</td>\n",
       "      <td>NaN</td>\n",
       "      <td>NaN</td>\n",
       "      <td>NaN</td>\n",
       "      <td>NaN</td>\n",
       "      <td>NaN</td>\n",
       "    </tr>\n",
       "    <tr>\n",
       "      <th>4</th>\n",
       "      <td>NaN</td>\n",
       "      <td>NaN</td>\n",
       "      <td>NaN</td>\n",
       "      <td>NaN</td>\n",
       "      <td>NaN</td>\n",
       "      <td>NaN</td>\n",
       "      <td>NaN</td>\n",
       "      <td>NaN</td>\n",
       "      <td>NaN</td>\n",
       "      <td>NaN</td>\n",
       "    </tr>\n",
       "    <tr>\n",
       "      <th>...</th>\n",
       "      <td>...</td>\n",
       "      <td>...</td>\n",
       "      <td>...</td>\n",
       "      <td>...</td>\n",
       "      <td>...</td>\n",
       "      <td>...</td>\n",
       "      <td>...</td>\n",
       "      <td>...</td>\n",
       "      <td>...</td>\n",
       "      <td>...</td>\n",
       "    </tr>\n",
       "    <tr>\n",
       "      <th>9995</th>\n",
       "      <td>0.519019</td>\n",
       "      <td>0.910295</td>\n",
       "      <td>0.667338</td>\n",
       "      <td>1.005601</td>\n",
       "      <td>0.332143</td>\n",
       "      <td>0.914619</td>\n",
       "      <td>1.020544</td>\n",
       "      <td>0.741262</td>\n",
       "      <td>1.372706</td>\n",
       "      <td>0.435043</td>\n",
       "    </tr>\n",
       "    <tr>\n",
       "      <th>9996</th>\n",
       "      <td>0.490374</td>\n",
       "      <td>0.903286</td>\n",
       "      <td>0.612148</td>\n",
       "      <td>0.816374</td>\n",
       "      <td>0.427457</td>\n",
       "      <td>0.817337</td>\n",
       "      <td>1.049636</td>\n",
       "      <td>0.705926</td>\n",
       "      <td>1.218642</td>\n",
       "      <td>0.459126</td>\n",
       "    </tr>\n",
       "    <tr>\n",
       "      <th>9997</th>\n",
       "      <td>0.550433</td>\n",
       "      <td>0.838526</td>\n",
       "      <td>0.557899</td>\n",
       "      <td>0.801970</td>\n",
       "      <td>0.396361</td>\n",
       "      <td>0.676834</td>\n",
       "      <td>0.882858</td>\n",
       "      <td>0.676176</td>\n",
       "      <td>0.959361</td>\n",
       "      <td>0.535229</td>\n",
       "    </tr>\n",
       "    <tr>\n",
       "      <th>9998</th>\n",
       "      <td>0.545285</td>\n",
       "      <td>0.763377</td>\n",
       "      <td>0.520668</td>\n",
       "      <td>0.805151</td>\n",
       "      <td>0.556922</td>\n",
       "      <td>0.436043</td>\n",
       "      <td>0.857802</td>\n",
       "      <td>0.658523</td>\n",
       "      <td>0.947262</td>\n",
       "      <td>0.492282</td>\n",
       "    </tr>\n",
       "    <tr>\n",
       "      <th>9999</th>\n",
       "      <td>0.680453</td>\n",
       "      <td>0.760726</td>\n",
       "      <td>0.579792</td>\n",
       "      <td>0.793920</td>\n",
       "      <td>0.518397</td>\n",
       "      <td>0.460613</td>\n",
       "      <td>0.791540</td>\n",
       "      <td>0.533559</td>\n",
       "      <td>0.825921</td>\n",
       "      <td>0.547187</td>\n",
       "    </tr>\n",
       "  </tbody>\n",
       "</table>\n",
       "<p>10000 rows × 10 columns</p>\n",
       "</div>"
      ],
      "text/plain": [
       "             0         1         2         3         4         5         6  \\\n",
       "0          NaN       NaN       NaN       NaN       NaN       NaN       NaN   \n",
       "1          NaN       NaN       NaN       NaN       NaN       NaN       NaN   \n",
       "2          NaN       NaN       NaN       NaN       NaN       NaN       NaN   \n",
       "3          NaN       NaN       NaN       NaN       NaN       NaN       NaN   \n",
       "4          NaN       NaN       NaN       NaN       NaN       NaN       NaN   \n",
       "...        ...       ...       ...       ...       ...       ...       ...   \n",
       "9995  0.519019  0.910295  0.667338  1.005601  0.332143  0.914619  1.020544   \n",
       "9996  0.490374  0.903286  0.612148  0.816374  0.427457  0.817337  1.049636   \n",
       "9997  0.550433  0.838526  0.557899  0.801970  0.396361  0.676834  0.882858   \n",
       "9998  0.545285  0.763377  0.520668  0.805151  0.556922  0.436043  0.857802   \n",
       "9999  0.680453  0.760726  0.579792  0.793920  0.518397  0.460613  0.791540   \n",
       "\n",
       "             7         8         9  \n",
       "0          NaN       NaN       NaN  \n",
       "1          NaN       NaN       NaN  \n",
       "2          NaN       NaN       NaN  \n",
       "3          NaN       NaN       NaN  \n",
       "4          NaN       NaN       NaN  \n",
       "...        ...       ...       ...  \n",
       "9995  0.741262  1.372706  0.435043  \n",
       "9996  0.705926  1.218642  0.459126  \n",
       "9997  0.676176  0.959361  0.535229  \n",
       "9998  0.658523  0.947262  0.492282  \n",
       "9999  0.533559  0.825921  0.547187  \n",
       "\n",
       "[10000 rows x 10 columns]"
      ]
     },
     "execution_count": 53,
     "metadata": {},
     "output_type": "execute_result"
    }
   ],
   "source": [
    "%time ts.rolling(10).apply(mad, raw=True)"
   ]
  },
  {
   "cell_type": "markdown",
   "metadata": {},
   "source": [
    "Note that the first time we run with `engine=\"numba\"`, it's not faster, even a little slower. In the next cell we'll run it many times and time it."
   ]
  },
  {
   "cell_type": "code",
   "execution_count": 54,
   "metadata": {},
   "outputs": [
    {
     "name": "stdout",
     "output_type": "stream",
     "text": [
      "CPU times: user 50.7 ms, sys: 2.88 ms, total: 53.6 ms\n",
      "Wall time: 51.3 ms\n"
     ]
    },
    {
     "data": {
      "text/html": [
       "<div>\n",
       "<style scoped>\n",
       "    .dataframe tbody tr th:only-of-type {\n",
       "        vertical-align: middle;\n",
       "    }\n",
       "\n",
       "    .dataframe tbody tr th {\n",
       "        vertical-align: top;\n",
       "    }\n",
       "\n",
       "    .dataframe thead th {\n",
       "        text-align: right;\n",
       "    }\n",
       "</style>\n",
       "<table border=\"1\" class=\"dataframe\">\n",
       "  <thead>\n",
       "    <tr style=\"text-align: right;\">\n",
       "      <th></th>\n",
       "      <th>0</th>\n",
       "      <th>1</th>\n",
       "      <th>2</th>\n",
       "      <th>3</th>\n",
       "      <th>4</th>\n",
       "      <th>5</th>\n",
       "      <th>6</th>\n",
       "      <th>7</th>\n",
       "      <th>8</th>\n",
       "      <th>9</th>\n",
       "    </tr>\n",
       "  </thead>\n",
       "  <tbody>\n",
       "    <tr>\n",
       "      <th>0</th>\n",
       "      <td>NaN</td>\n",
       "      <td>NaN</td>\n",
       "      <td>NaN</td>\n",
       "      <td>NaN</td>\n",
       "      <td>NaN</td>\n",
       "      <td>NaN</td>\n",
       "      <td>NaN</td>\n",
       "      <td>NaN</td>\n",
       "      <td>NaN</td>\n",
       "      <td>NaN</td>\n",
       "    </tr>\n",
       "    <tr>\n",
       "      <th>1</th>\n",
       "      <td>NaN</td>\n",
       "      <td>NaN</td>\n",
       "      <td>NaN</td>\n",
       "      <td>NaN</td>\n",
       "      <td>NaN</td>\n",
       "      <td>NaN</td>\n",
       "      <td>NaN</td>\n",
       "      <td>NaN</td>\n",
       "      <td>NaN</td>\n",
       "      <td>NaN</td>\n",
       "    </tr>\n",
       "    <tr>\n",
       "      <th>2</th>\n",
       "      <td>NaN</td>\n",
       "      <td>NaN</td>\n",
       "      <td>NaN</td>\n",
       "      <td>NaN</td>\n",
       "      <td>NaN</td>\n",
       "      <td>NaN</td>\n",
       "      <td>NaN</td>\n",
       "      <td>NaN</td>\n",
       "      <td>NaN</td>\n",
       "      <td>NaN</td>\n",
       "    </tr>\n",
       "    <tr>\n",
       "      <th>3</th>\n",
       "      <td>NaN</td>\n",
       "      <td>NaN</td>\n",
       "      <td>NaN</td>\n",
       "      <td>NaN</td>\n",
       "      <td>NaN</td>\n",
       "      <td>NaN</td>\n",
       "      <td>NaN</td>\n",
       "      <td>NaN</td>\n",
       "      <td>NaN</td>\n",
       "      <td>NaN</td>\n",
       "    </tr>\n",
       "    <tr>\n",
       "      <th>4</th>\n",
       "      <td>NaN</td>\n",
       "      <td>NaN</td>\n",
       "      <td>NaN</td>\n",
       "      <td>NaN</td>\n",
       "      <td>NaN</td>\n",
       "      <td>NaN</td>\n",
       "      <td>NaN</td>\n",
       "      <td>NaN</td>\n",
       "      <td>NaN</td>\n",
       "      <td>NaN</td>\n",
       "    </tr>\n",
       "    <tr>\n",
       "      <th>...</th>\n",
       "      <td>...</td>\n",
       "      <td>...</td>\n",
       "      <td>...</td>\n",
       "      <td>...</td>\n",
       "      <td>...</td>\n",
       "      <td>...</td>\n",
       "      <td>...</td>\n",
       "      <td>...</td>\n",
       "      <td>...</td>\n",
       "      <td>...</td>\n",
       "    </tr>\n",
       "    <tr>\n",
       "      <th>9995</th>\n",
       "      <td>0.519019</td>\n",
       "      <td>0.910295</td>\n",
       "      <td>0.667338</td>\n",
       "      <td>1.005601</td>\n",
       "      <td>0.332143</td>\n",
       "      <td>0.914619</td>\n",
       "      <td>1.020544</td>\n",
       "      <td>0.741262</td>\n",
       "      <td>1.372706</td>\n",
       "      <td>0.435043</td>\n",
       "    </tr>\n",
       "    <tr>\n",
       "      <th>9996</th>\n",
       "      <td>0.490374</td>\n",
       "      <td>0.903286</td>\n",
       "      <td>0.612148</td>\n",
       "      <td>0.816374</td>\n",
       "      <td>0.427457</td>\n",
       "      <td>0.817337</td>\n",
       "      <td>1.049636</td>\n",
       "      <td>0.705926</td>\n",
       "      <td>1.218642</td>\n",
       "      <td>0.459126</td>\n",
       "    </tr>\n",
       "    <tr>\n",
       "      <th>9997</th>\n",
       "      <td>0.550433</td>\n",
       "      <td>0.838526</td>\n",
       "      <td>0.557899</td>\n",
       "      <td>0.801970</td>\n",
       "      <td>0.396361</td>\n",
       "      <td>0.676834</td>\n",
       "      <td>0.882858</td>\n",
       "      <td>0.676176</td>\n",
       "      <td>0.959361</td>\n",
       "      <td>0.535229</td>\n",
       "    </tr>\n",
       "    <tr>\n",
       "      <th>9998</th>\n",
       "      <td>0.545285</td>\n",
       "      <td>0.763377</td>\n",
       "      <td>0.520668</td>\n",
       "      <td>0.805151</td>\n",
       "      <td>0.556922</td>\n",
       "      <td>0.436043</td>\n",
       "      <td>0.857802</td>\n",
       "      <td>0.658523</td>\n",
       "      <td>0.947262</td>\n",
       "      <td>0.492282</td>\n",
       "    </tr>\n",
       "    <tr>\n",
       "      <th>9999</th>\n",
       "      <td>0.680453</td>\n",
       "      <td>0.760726</td>\n",
       "      <td>0.579792</td>\n",
       "      <td>0.793920</td>\n",
       "      <td>0.518397</td>\n",
       "      <td>0.460613</td>\n",
       "      <td>0.791540</td>\n",
       "      <td>0.533559</td>\n",
       "      <td>0.825921</td>\n",
       "      <td>0.547187</td>\n",
       "    </tr>\n",
       "  </tbody>\n",
       "</table>\n",
       "<p>10000 rows × 10 columns</p>\n",
       "</div>"
      ],
      "text/plain": [
       "             0         1         2         3         4         5         6  \\\n",
       "0          NaN       NaN       NaN       NaN       NaN       NaN       NaN   \n",
       "1          NaN       NaN       NaN       NaN       NaN       NaN       NaN   \n",
       "2          NaN       NaN       NaN       NaN       NaN       NaN       NaN   \n",
       "3          NaN       NaN       NaN       NaN       NaN       NaN       NaN   \n",
       "4          NaN       NaN       NaN       NaN       NaN       NaN       NaN   \n",
       "...        ...       ...       ...       ...       ...       ...       ...   \n",
       "9995  0.519019  0.910295  0.667338  1.005601  0.332143  0.914619  1.020544   \n",
       "9996  0.490374  0.903286  0.612148  0.816374  0.427457  0.817337  1.049636   \n",
       "9997  0.550433  0.838526  0.557899  0.801970  0.396361  0.676834  0.882858   \n",
       "9998  0.545285  0.763377  0.520668  0.805151  0.556922  0.436043  0.857802   \n",
       "9999  0.680453  0.760726  0.579792  0.793920  0.518397  0.460613  0.791540   \n",
       "\n",
       "             7         8         9  \n",
       "0          NaN       NaN       NaN  \n",
       "1          NaN       NaN       NaN  \n",
       "2          NaN       NaN       NaN  \n",
       "3          NaN       NaN       NaN  \n",
       "4          NaN       NaN       NaN  \n",
       "...        ...       ...       ...  \n",
       "9995  0.741262  1.372706  0.435043  \n",
       "9996  0.705926  1.218642  0.459126  \n",
       "9997  0.676176  0.959361  0.535229  \n",
       "9998  0.658523  0.947262  0.492282  \n",
       "9999  0.533559  0.825921  0.547187  \n",
       "\n",
       "[10000 rows x 10 columns]"
      ]
     },
     "execution_count": 54,
     "metadata": {},
     "output_type": "execute_result"
    }
   ],
   "source": [
    "%time ts.rolling(10).apply(mad, engine=\"numba\", raw=True)"
   ]
  },
  {
   "cell_type": "code",
   "execution_count": 56,
   "metadata": {},
   "outputs": [
    {
     "name": "stdout",
     "output_type": "stream",
     "text": [
      "43.8 ms ± 1.72 ms per loop (mean ± std. dev. of 7 runs, 10 loops each)\n"
     ]
    }
   ],
   "source": [
    "%timeit ts.rolling(10).apply(mad, engine=\"numba\", raw=True)"
   ]
  },
  {
   "cell_type": "markdown",
   "metadata": {},
   "source": [
    "I think this this pattern, where a library accepts some user-defined function and JIT-compiles the whole operation with Numba, is gaining popularity. Libraries like [UMAP](https://umap-learn.readthedocs.io/en/latest/) allow users to pass loss functions as numba-jitted functions, enabling customizable loss functions without a loss in performance."
   ]
  }
 ],
 "metadata": {
  "kernelspec": {
   "display_name": "Python 3",
   "language": "python",
   "name": "python3"
  },
  "language_info": {
   "codemirror_mode": {
    "name": "ipython",
    "version": 3
   },
   "file_extension": ".py",
   "mimetype": "text/x-python",
   "name": "python",
   "nbconvert_exporter": "python",
   "pygments_lexer": "ipython3",
   "version": "3.8.6"
  }
 },
 "nbformat": 4,
 "nbformat_minor": 4
}
