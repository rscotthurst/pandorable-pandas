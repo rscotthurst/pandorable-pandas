{
 "cells": [
  {
   "cell_type": "markdown",
   "metadata": {},
   "source": [
    "# Alignment\n",
    "\n",
    "This notebook covers [*alignment*](https://pandas.pydata.org/docs/user_guide/dsintro.html#dsintro-alignment), a feature of pandas that's crucial to using it well. It relies on the pandas' handling of *labels*."
   ]
  },
  {
   "cell_type": "code",
   "execution_count": 1,
   "metadata": {},
   "outputs": [],
   "source": [
    "import numpy as np\n",
    "import pandas as pd\n",
    "import matplotlib.pyplot as plt"
   ]
  },
  {
   "cell_type": "markdown",
   "metadata": {},
   "source": [
    "## Goal: Compute Real GDP\n",
    "\n",
    "Let's learn through an example: Gross Domestic Product (the total output of a country) is measured in dollars. This means we we can't just compare the GDP from 1950 to the GDP from 2000, since the value of a dollar changed over that time (inflation).\n",
    "\n",
    "In the US, the Bureau of Economic Analysis already provides an estimate of real GDP, but we'll calculate something similar using the formula:\n",
    "\n",
    "$$\n",
    "real\\_GDP = \\frac{nominal\\_GDP}{price\\_index}\n",
    "$$\n",
    "\n",
    "I've downloaded a couple time series from [FRED](https://fred.stlouisfed.org), one for GDP and one for the Consumer Price Index.\n",
    "\n",
    "* U.S. Bureau of Labor Statistics, Consumer Price Index for All Urban Consumers: All Items in U.S. City Average [CPIAUCSL], retrieved from FRED, Federal Reserve Bank of St. Louis; https://fred.stlouisfed.org/series/CPIAUCSL, October 31, 2020.\n",
    "* U.S. Bureau of Economic Analysis, Gross Domestic Product [GDP], retrieved from FRED, Federal Reserve Bank of St. Louis; https://fred.stlouisfed.org/series/GDP, October 31, 2020.\n",
    "\n",
    "\n",
    "We're going to do things the wrong way first."
   ]
  },
  {
   "cell_type": "code",
   "execution_count": 5,
   "metadata": {},
   "outputs": [],
   "source": [
    "gdp_bad = pd.read_csv(\"data/GDP.csv.gz\", parse_dates=[\"DATE\"])\n",
    "cpi_bad = pd.read_csv(\"data/CPIAUCSL.csv.gz\", parse_dates=[\"DATE\"])"
   ]
  },
  {
   "cell_type": "markdown",
   "metadata": {},
   "source": [
    "Our formula says `real_gdp = gdp / cpi`, so, let's try it!"
   ]
  },
  {
   "cell_type": "code",
   "execution_count": 6,
   "metadata": {},
   "outputs": [
    {
     "name": "stdout",
     "output_type": "stream",
     "text": [
      "Exception reporting mode: Plain\n"
     ]
    },
    {
     "ename": "TypeError",
     "evalue": "cannot perform __truediv__ with this index type: DatetimeArray",
     "output_type": "error",
     "traceback": [
      "Traceback \u001b[0;36m(most recent call last)\u001b[0m:\n",
      "  File \u001b[1;32m\"<ipython-input-6-8d09b4c79123>\"\u001b[0m, line \u001b[1;32m3\u001b[0m, in \u001b[1;35m<module>\u001b[0m\n    gdp_bad / cpi_bad\n",
      "  File \u001b[1;32m\"/Users/scohurst/opt/anaconda3/envs/pandorable-pandas/lib/python3.8/site-packages/pandas/core/ops/__init__.py\"\u001b[0m, line \u001b[1;32m636\u001b[0m, in \u001b[1;35mf\u001b[0m\n    return _frame_arith_method_with_reindex(self, other, op)\n",
      "  File \u001b[1;32m\"/Users/scohurst/opt/anaconda3/envs/pandorable-pandas/lib/python3.8/site-packages/pandas/core/ops/__init__.py\"\u001b[0m, line \u001b[1;32m572\u001b[0m, in \u001b[1;35m_frame_arith_method_with_reindex\u001b[0m\n    result = op(new_left, new_right)\n",
      "  File \u001b[1;32m\"/Users/scohurst/opt/anaconda3/envs/pandorable-pandas/lib/python3.8/site-packages/pandas/core/ops/__init__.py\"\u001b[0m, line \u001b[1;32m651\u001b[0m, in \u001b[1;35mf\u001b[0m\n    new_data = self._combine_frame(other, na_op, fill_value)\n",
      "  File \u001b[1;32m\"/Users/scohurst/opt/anaconda3/envs/pandorable-pandas/lib/python3.8/site-packages/pandas/core/frame.py\"\u001b[0m, line \u001b[1;32m5866\u001b[0m, in \u001b[1;35m_combine_frame\u001b[0m\n    new_data = ops.dispatch_to_series(self, other, _arith_op)\n",
      "  File \u001b[1;32m\"/Users/scohurst/opt/anaconda3/envs/pandorable-pandas/lib/python3.8/site-packages/pandas/core/ops/__init__.py\"\u001b[0m, line \u001b[1;32m275\u001b[0m, in \u001b[1;35mdispatch_to_series\u001b[0m\n    bm = left._mgr.operate_blockwise(right._mgr, array_op)\n",
      "  File \u001b[1;32m\"/Users/scohurst/opt/anaconda3/envs/pandorable-pandas/lib/python3.8/site-packages/pandas/core/internals/managers.py\"\u001b[0m, line \u001b[1;32m364\u001b[0m, in \u001b[1;35moperate_blockwise\u001b[0m\n    return operate_blockwise(self, other, array_op)\n",
      "  File \u001b[1;32m\"/Users/scohurst/opt/anaconda3/envs/pandorable-pandas/lib/python3.8/site-packages/pandas/core/internals/ops.py\"\u001b[0m, line \u001b[1;32m38\u001b[0m, in \u001b[1;35moperate_blockwise\u001b[0m\n    res_values = array_op(lvals, rvals)\n",
      "  File \u001b[1;32m\"/Users/scohurst/opt/anaconda3/envs/pandorable-pandas/lib/python3.8/site-packages/pandas/core/ops/array_ops.py\"\u001b[0m, line \u001b[1;32m186\u001b[0m, in \u001b[1;35marithmetic_op\u001b[0m\n    res_values = op(lvalues, rvalues)\n",
      "\u001b[0;36m  File \u001b[0;32m\"/Users/scohurst/opt/anaconda3/envs/pandorable-pandas/lib/python3.8/site-packages/pandas/core/ops/invalid.py\"\u001b[0;36m, line \u001b[0;32m53\u001b[0;36m, in \u001b[0;35minvalid_op\u001b[0;36m\u001b[0m\n\u001b[0;31m    raise TypeError(f\"cannot perform {name} with this index type: {typ}\")\u001b[0m\n",
      "\u001b[0;31mTypeError\u001b[0m\u001b[0;31m:\u001b[0m cannot perform __truediv__ with this index type: DatetimeArray\n"
     ]
    }
   ],
   "source": [
    "%xmode plain\n",
    "\n",
    "gdp_bad / cpi_bad"
   ]
  },
  {
   "cell_type": "markdown",
   "metadata": {},
   "source": [
    "Whoops, what happened? We should probably look at our data:"
   ]
  },
  {
   "cell_type": "code",
   "execution_count": 7,
   "metadata": {},
   "outputs": [
    {
     "data": {
      "text/html": [
       "<div>\n",
       "<style scoped>\n",
       "    .dataframe tbody tr th:only-of-type {\n",
       "        vertical-align: middle;\n",
       "    }\n",
       "\n",
       "    .dataframe tbody tr th {\n",
       "        vertical-align: top;\n",
       "    }\n",
       "\n",
       "    .dataframe thead th {\n",
       "        text-align: right;\n",
       "    }\n",
       "</style>\n",
       "<table border=\"1\" class=\"dataframe\">\n",
       "  <thead>\n",
       "    <tr style=\"text-align: right;\">\n",
       "      <th></th>\n",
       "      <th>DATE</th>\n",
       "      <th>GDP</th>\n",
       "    </tr>\n",
       "  </thead>\n",
       "  <tbody>\n",
       "    <tr>\n",
       "      <th>0</th>\n",
       "      <td>1947-01-01</td>\n",
       "      <td>243.164</td>\n",
       "    </tr>\n",
       "    <tr>\n",
       "      <th>1</th>\n",
       "      <td>1947-04-01</td>\n",
       "      <td>245.968</td>\n",
       "    </tr>\n",
       "    <tr>\n",
       "      <th>2</th>\n",
       "      <td>1947-07-01</td>\n",
       "      <td>249.585</td>\n",
       "    </tr>\n",
       "    <tr>\n",
       "      <th>3</th>\n",
       "      <td>1947-10-01</td>\n",
       "      <td>259.745</td>\n",
       "    </tr>\n",
       "    <tr>\n",
       "      <th>4</th>\n",
       "      <td>1948-01-01</td>\n",
       "      <td>265.742</td>\n",
       "    </tr>\n",
       "    <tr>\n",
       "      <th>...</th>\n",
       "      <td>...</td>\n",
       "      <td>...</td>\n",
       "    </tr>\n",
       "    <tr>\n",
       "      <th>290</th>\n",
       "      <td>2019-07-01</td>\n",
       "      <td>21540.325</td>\n",
       "    </tr>\n",
       "    <tr>\n",
       "      <th>291</th>\n",
       "      <td>2019-10-01</td>\n",
       "      <td>21747.394</td>\n",
       "    </tr>\n",
       "    <tr>\n",
       "      <th>292</th>\n",
       "      <td>2020-01-01</td>\n",
       "      <td>21561.139</td>\n",
       "    </tr>\n",
       "    <tr>\n",
       "      <th>293</th>\n",
       "      <td>2020-04-01</td>\n",
       "      <td>19520.114</td>\n",
       "    </tr>\n",
       "    <tr>\n",
       "      <th>294</th>\n",
       "      <td>2020-07-01</td>\n",
       "      <td>21157.635</td>\n",
       "    </tr>\n",
       "  </tbody>\n",
       "</table>\n",
       "<p>295 rows × 2 columns</p>\n",
       "</div>"
      ],
      "text/plain": [
       "          DATE        GDP\n",
       "0   1947-01-01    243.164\n",
       "1   1947-04-01    245.968\n",
       "2   1947-07-01    249.585\n",
       "3   1947-10-01    259.745\n",
       "4   1948-01-01    265.742\n",
       "..         ...        ...\n",
       "290 2019-07-01  21540.325\n",
       "291 2019-10-01  21747.394\n",
       "292 2020-01-01  21561.139\n",
       "293 2020-04-01  19520.114\n",
       "294 2020-07-01  21157.635\n",
       "\n",
       "[295 rows x 2 columns]"
      ]
     },
     "execution_count": 7,
     "metadata": {},
     "output_type": "execute_result"
    }
   ],
   "source": [
    "gdp_bad"
   ]
  },
  {
   "cell_type": "code",
   "execution_count": 8,
   "metadata": {},
   "outputs": [
    {
     "data": {
      "text/plain": [
       "DATE    datetime64[ns]\n",
       "GDP            float64\n",
       "dtype: object"
      ]
     },
     "execution_count": 8,
     "metadata": {},
     "output_type": "execute_result"
    }
   ],
   "source": [
    "gdp_bad.dtypes"
   ]
  },
  {
   "cell_type": "code",
   "execution_count": 11,
   "metadata": {},
   "outputs": [
    {
     "data": {
      "text/plain": [
       "Timestamp('1947-01-01 00:00:00')"
      ]
     },
     "execution_count": 11,
     "metadata": {},
     "output_type": "execute_result"
    }
   ],
   "source": [
    "gdp_bad['DATE'][0]  # Select first observation"
   ]
  },
  {
   "cell_type": "markdown",
   "metadata": {},
   "source": [
    "So, we've tried to divide a datetime by a datetime, and pandas has correctly raised a type error. That raises another issue though. These two timeseries have different frequencies."
   ]
  },
  {
   "cell_type": "code",
   "execution_count": 12,
   "metadata": {},
   "outputs": [
    {
     "data": {
      "text/html": [
       "<div>\n",
       "<style scoped>\n",
       "    .dataframe tbody tr th:only-of-type {\n",
       "        vertical-align: middle;\n",
       "    }\n",
       "\n",
       "    .dataframe tbody tr th {\n",
       "        vertical-align: top;\n",
       "    }\n",
       "\n",
       "    .dataframe thead th {\n",
       "        text-align: right;\n",
       "    }\n",
       "</style>\n",
       "<table border=\"1\" class=\"dataframe\">\n",
       "  <thead>\n",
       "    <tr style=\"text-align: right;\">\n",
       "      <th></th>\n",
       "      <th>DATE</th>\n",
       "      <th>CPIAUCSL</th>\n",
       "    </tr>\n",
       "  </thead>\n",
       "  <tbody>\n",
       "    <tr>\n",
       "      <th>0</th>\n",
       "      <td>1947-01-01</td>\n",
       "      <td>21.48</td>\n",
       "    </tr>\n",
       "    <tr>\n",
       "      <th>1</th>\n",
       "      <td>1947-02-01</td>\n",
       "      <td>21.62</td>\n",
       "    </tr>\n",
       "    <tr>\n",
       "      <th>2</th>\n",
       "      <td>1947-03-01</td>\n",
       "      <td>22.00</td>\n",
       "    </tr>\n",
       "    <tr>\n",
       "      <th>3</th>\n",
       "      <td>1947-04-01</td>\n",
       "      <td>22.00</td>\n",
       "    </tr>\n",
       "    <tr>\n",
       "      <th>4</th>\n",
       "      <td>1947-05-01</td>\n",
       "      <td>21.95</td>\n",
       "    </tr>\n",
       "  </tbody>\n",
       "</table>\n",
       "</div>"
      ],
      "text/plain": [
       "        DATE  CPIAUCSL\n",
       "0 1947-01-01     21.48\n",
       "1 1947-02-01     21.62\n",
       "2 1947-03-01     22.00\n",
       "3 1947-04-01     22.00\n",
       "4 1947-05-01     21.95"
      ]
     },
     "execution_count": 12,
     "metadata": {},
     "output_type": "execute_result"
    }
   ],
   "source": [
    "cpi_bad.head()"
   ]
  },
  {
   "cell_type": "code",
   "execution_count": 13,
   "metadata": {},
   "outputs": [
    {
     "data": {
      "text/plain": [
       "DATE        datetime64[ns]\n",
       "CPIAUCSL           float64\n",
       "dtype: object"
      ]
     },
     "execution_count": 13,
     "metadata": {},
     "output_type": "execute_result"
    }
   ],
   "source": [
    "cpi_bad.dtypes"
   ]
  },
  {
   "cell_type": "markdown",
   "metadata": {},
   "source": [
    "CPI is measured monthly, while GDP is quarterly. What we'd really need to do is *join* the two timeseries on the `DATE` variable, and then do the operation. We could do that, but let's do things the pandorable way first.\n",
    "\n",
    "A DataFrame is a 2-D data structure composed of three components:\n",
    "\n",
    "1. The *values*, the actual data\n",
    "2. The *row labels*, stored in a `pandas.Index` class, accessible with `.index`\n",
    "3. The *column labels*, stored in a `pandas.Index` class, accessible with `.columns`\n",
    "\n",
    "\n",
    "![](https://pandas.pydata.org/docs/_images/01_table_dataframe1.svg)\n",
    "\n",
    "We'll use the *index* to store our *labels* (the dates). Then the only thing in the values is our observations (the GDP or CPI)."
   ]
  },
  {
   "cell_type": "code",
   "execution_count": 14,
   "metadata": {},
   "outputs": [
    {
     "data": {
      "text/plain": [
       "DATE\n",
       "1947-01-01    243.164\n",
       "1947-04-01    245.968\n",
       "1947-07-01    249.585\n",
       "1947-10-01    259.745\n",
       "1948-01-01    265.742\n",
       "Name: GDP, dtype: float64"
      ]
     },
     "execution_count": 14,
     "metadata": {},
     "output_type": "execute_result"
    }
   ],
   "source": [
    "# Notice that we select the GDP column to convert the\n",
    "# 1-column DataFrame to a 1D Series\n",
    "gdp = pd.read_csv('data/GDP.csv.gz', index_col='DATE',\n",
    "                  parse_dates=['DATE'])[\"GDP\"]\n",
    "gdp.head()"
   ]
  },
  {
   "cell_type": "markdown",
   "metadata": {},
   "source": [
    "Notice that we selected the single column `\"GDP\"` using `[]`. This returns a `pandas.Series` object, a 1-D array *with row labels*.\n",
    "\n",
    "![](https://pandas.pydata.org/docs/_images/01_table_series.svg)"
   ]
  },
  {
   "cell_type": "code",
   "execution_count": 20,
   "metadata": {},
   "outputs": [
    {
     "data": {
      "text/plain": [
       "pandas.core.series.Series"
      ]
     },
     "execution_count": 20,
     "metadata": {},
     "output_type": "execute_result"
    }
   ],
   "source": [
    "type(gdp)"
   ]
  },
  {
   "cell_type": "code",
   "execution_count": 21,
   "metadata": {},
   "outputs": [
    {
     "data": {
      "text/plain": [
       "DatetimeIndex(['1947-01-01', '1947-04-01', '1947-07-01', '1947-10-01',\n",
       "               '1948-01-01', '1948-04-01', '1948-07-01', '1948-10-01',\n",
       "               '1949-01-01', '1949-04-01',\n",
       "               ...\n",
       "               '2018-04-01', '2018-07-01', '2018-10-01', '2019-01-01',\n",
       "               '2019-04-01', '2019-07-01', '2019-10-01', '2020-01-01',\n",
       "               '2020-04-01', '2020-07-01'],\n",
       "              dtype='datetime64[ns]', name='DATE', length=295, freq=None)"
      ]
     },
     "execution_count": 21,
     "metadata": {},
     "output_type": "execute_result"
    }
   ],
   "source": [
    "gdp.index"
   ]
  },
  {
   "cell_type": "markdown",
   "metadata": {},
   "source": [
    "The actual values are a NumPy array of floats."
   ]
  },
  {
   "cell_type": "code",
   "execution_count": 22,
   "metadata": {},
   "outputs": [
    {
     "data": {
      "text/plain": [
       "array([243.164, 245.968, 249.585, 259.745, 265.742, 272.567, 279.196,\n",
       "       280.366, 275.034, 271.351])"
      ]
     },
     "execution_count": 22,
     "metadata": {},
     "output_type": "execute_result"
    }
   ],
   "source": [
    "gdp.to_numpy()[:10]"
   ]
  },
  {
   "cell_type": "markdown",
   "metadata": {},
   "source": [
    "Let's read in CPI as well."
   ]
  },
  {
   "cell_type": "code",
   "execution_count": 23,
   "metadata": {},
   "outputs": [
    {
     "data": {
      "text/plain": [
       "DATE\n",
       "1947-01-01    21.48\n",
       "1947-02-01    21.62\n",
       "1947-03-01    22.00\n",
       "1947-04-01    22.00\n",
       "1947-05-01    21.95\n",
       "Name: CPIAUCSL, dtype: float64"
      ]
     },
     "execution_count": 23,
     "metadata": {},
     "output_type": "execute_result"
    }
   ],
   "source": [
    "cpi = pd.read_csv('data/CPIAUCSL.csv.gz', index_col='DATE',\n",
    "                  parse_dates=['DATE'])[\"CPIAUCSL\"]\n",
    "cpi.head()"
   ]
  },
  {
   "cell_type": "markdown",
   "metadata": {},
   "source": [
    "And let's try the formula again."
   ]
  },
  {
   "cell_type": "code",
   "execution_count": 24,
   "metadata": {},
   "outputs": [
    {
     "data": {
      "text/plain": [
       "DATE\n",
       "1947-01-01    11.320484\n",
       "1947-02-01          NaN\n",
       "1947-03-01          NaN\n",
       "1947-04-01    11.180364\n",
       "1947-05-01          NaN\n",
       "                ...    \n",
       "2020-05-01          NaN\n",
       "2020-06-01          NaN\n",
       "2020-07-01    81.777171\n",
       "2020-08-01          NaN\n",
       "2020-09-01          NaN\n",
       "Length: 885, dtype: float64"
      ]
     },
     "execution_count": 24,
     "metadata": {},
     "output_type": "execute_result"
    }
   ],
   "source": [
    "rgdp = gdp / cpi\n",
    "rgdp"
   ]
  },
  {
   "cell_type": "markdown",
   "metadata": {},
   "source": [
    "**What happened?**\n",
    "\n",
    "We've gotten our answer, but is there anything in the output that's surprising? What are these `NaN`s?\n",
    "\n",
    "In pandas, any time you do an operation involving multiple pandas objects (dataframes, series), pandas will *align* the inputs. Alignment is a two-step process:\n",
    "\n",
    "1. Take the union of the labels\n",
    "2. Reindex the all inputs to the union of the labels, introducing NAs where there's new values.\n",
    "\n",
    "Only after that does the operation (division in this case) happen.\n",
    "\n",
    "Looking at the raw data, we see that CPI is measured monthly, while GDP is just measured quarterly. So pandas has aligned the two (to monthly frequency, since that's the union), inserting missing values where there weren't any previously."
   ]
  },
  {
   "cell_type": "code",
   "execution_count": 25,
   "metadata": {},
   "outputs": [
    {
     "data": {
      "text/plain": [
       "DatetimeIndex(['1947-01-01', '1947-02-01', '1947-03-01', '1947-04-01',\n",
       "               '1947-05-01', '1947-06-01', '1947-07-01', '1947-08-01',\n",
       "               '1947-09-01', '1947-10-01',\n",
       "               ...\n",
       "               '2019-12-01', '2020-01-01', '2020-02-01', '2020-03-01',\n",
       "               '2020-04-01', '2020-05-01', '2020-06-01', '2020-07-01',\n",
       "               '2020-08-01', '2020-09-01'],\n",
       "              dtype='datetime64[ns]', name='DATE', length=885, freq='MS')"
      ]
     },
     "execution_count": 25,
     "metadata": {},
     "output_type": "execute_result"
    }
   ],
   "source": [
    "# manual alignment, just for demonstration:\n",
    "\n",
    "all_dates = gdp.index.union(cpi.index)\n",
    "all_dates"
   ]
  },
  {
   "cell_type": "code",
   "execution_count": 27,
   "metadata": {},
   "outputs": [
    {
     "data": {
      "text/plain": [
       "DATE\n",
       "1947-01-01      243.164\n",
       "1947-04-01      245.968\n",
       "1947-07-01      249.585\n",
       "1947-10-01      259.745\n",
       "1948-01-01      265.742\n",
       "                ...    \n",
       "2019-07-01    21540.325\n",
       "2019-10-01    21747.394\n",
       "2020-01-01    21561.139\n",
       "2020-04-01    19520.114\n",
       "2020-07-01    21157.635\n",
       "Name: GDP, Length: 295, dtype: float64"
      ]
     },
     "execution_count": 27,
     "metadata": {},
     "output_type": "execute_result"
    }
   ],
   "source": [
    "gdp"
   ]
  },
  {
   "cell_type": "code",
   "execution_count": 28,
   "metadata": {},
   "outputs": [
    {
     "data": {
      "text/plain": [
       "DATE\n",
       "1947-01-01      243.164\n",
       "1947-02-01          NaN\n",
       "1947-03-01          NaN\n",
       "1947-04-01      245.968\n",
       "1947-05-01          NaN\n",
       "                ...    \n",
       "2020-05-01          NaN\n",
       "2020-06-01          NaN\n",
       "2020-07-01    21157.635\n",
       "2020-08-01          NaN\n",
       "2020-09-01          NaN\n",
       "Freq: MS, Name: GDP, Length: 885, dtype: float64"
      ]
     },
     "execution_count": 28,
     "metadata": {},
     "output_type": "execute_result"
    }
   ],
   "source": [
    "# Introduce NaN's when we reindex gdp to all dates\n",
    "gdp2 = gdp.reindex(all_dates)\n",
    "gdp2"
   ]
  },
  {
   "cell_type": "code",
   "execution_count": 29,
   "metadata": {},
   "outputs": [
    {
     "data": {
      "text/plain": [
       "DATE\n",
       "1947-01-01     21.480\n",
       "1947-02-01     21.620\n",
       "1947-03-01     22.000\n",
       "1947-04-01     22.000\n",
       "1947-05-01     21.950\n",
       "               ...   \n",
       "2020-05-01    255.768\n",
       "2020-06-01    257.214\n",
       "2020-07-01    258.723\n",
       "2020-08-01    259.681\n",
       "2020-09-01    260.209\n",
       "Freq: MS, Name: CPIAUCSL, Length: 885, dtype: float64"
      ]
     },
     "execution_count": 29,
     "metadata": {},
     "output_type": "execute_result"
    }
   ],
   "source": [
    "# No NaN's when we go the other way though\n",
    "cpi2 = cpi.reindex(all_dates)\n",
    "cpi2"
   ]
  },
  {
   "cell_type": "code",
   "execution_count": 30,
   "metadata": {},
   "outputs": [
    {
     "data": {
      "text/plain": [
       "DATE\n",
       "1947-01-01    11.320484\n",
       "1947-02-01          NaN\n",
       "1947-03-01          NaN\n",
       "1947-04-01    11.180364\n",
       "1947-05-01          NaN\n",
       "                ...    \n",
       "2020-05-01          NaN\n",
       "2020-06-01          NaN\n",
       "2020-07-01    81.777171\n",
       "2020-08-01          NaN\n",
       "2020-09-01          NaN\n",
       "Freq: MS, Length: 885, dtype: float64"
      ]
     },
     "execution_count": 30,
     "metadata": {},
     "output_type": "execute_result"
    }
   ],
   "source": [
    "rgdp2 = gdp2 / cpi2\n",
    "rgdp2"
   ]
  },
  {
   "cell_type": "markdown",
   "metadata": {},
   "source": [
    "So when we wrote\n",
    "\n",
    "```python\n",
    "rgdp = gdp / cpi\n",
    "```\n",
    "\n",
    "pandas performs\n",
    "\n",
    "```python\n",
    "all_dates = gdp.index.union(cpi.index)\n",
    "rgdp = gdp.reindex(all_dates) / cpi.reindex(all_dates)\n",
    "```\n",
    "\n",
    "This behavior is somewhat peculiar to pandas. But once you're used to it it's hard to go back. pandas handling the labels / alignment elimiates a class of errors that come from datasets not being aligned."
   ]
  },
  {
   "cell_type": "markdown",
   "metadata": {},
   "source": [
    "## Missing Data\n",
    "\n",
    "Just a quick aside on handling missing data: pandas provides tools for detecting and dealing with missing data. We'll use these throughout the tutorial."
   ]
  },
  {
   "cell_type": "code",
   "execution_count": 31,
   "metadata": {},
   "outputs": [
    {
     "data": {
      "text/plain": [
       "DATE\n",
       "1947-01-01    False\n",
       "1947-02-01     True\n",
       "1947-03-01     True\n",
       "1947-04-01    False\n",
       "1947-05-01     True\n",
       "              ...  \n",
       "2020-05-01     True\n",
       "2020-06-01     True\n",
       "2020-07-01    False\n",
       "2020-08-01     True\n",
       "2020-09-01     True\n",
       "Length: 885, dtype: bool"
      ]
     },
     "execution_count": 31,
     "metadata": {},
     "output_type": "execute_result"
    }
   ],
   "source": [
    "rgdp.isna()"
   ]
  },
  {
   "cell_type": "code",
   "execution_count": 32,
   "metadata": {},
   "outputs": [
    {
     "data": {
      "text/plain": [
       "DATE\n",
       "1947-01-01    11.320484\n",
       "1947-04-01    11.180364\n",
       "1947-07-01    11.227395\n",
       "1947-10-01    11.337625\n",
       "1948-01-01    11.222213\n",
       "                ...    \n",
       "2019-07-01    84.113309\n",
       "2019-10-01    84.544876\n",
       "2020-01-01    83.305537\n",
       "2020-04-01    76.279646\n",
       "2020-07-01    81.777171\n",
       "Length: 295, dtype: float64"
      ]
     },
     "execution_count": 32,
     "metadata": {},
     "output_type": "execute_result"
    }
   ],
   "source": [
    "rgdp.dropna()"
   ]
  },
  {
   "cell_type": "code",
   "execution_count": 33,
   "metadata": {},
   "outputs": [
    {
     "data": {
      "text/plain": [
       "DATE\n",
       "1947-01-01    11.320484\n",
       "1947-02-01    11.320484\n",
       "1947-03-01    11.320484\n",
       "1947-04-01    11.180364\n",
       "1947-05-01    11.180364\n",
       "                ...    \n",
       "2020-05-01    76.279646\n",
       "2020-06-01    76.279646\n",
       "2020-07-01    81.777171\n",
       "2020-08-01    81.777171\n",
       "2020-09-01    81.777171\n",
       "Length: 885, dtype: float64"
      ]
     },
     "execution_count": 33,
     "metadata": {},
     "output_type": "execute_result"
    }
   ],
   "source": [
    "rgdp.fillna(method='ffill')  # or fill with a scalar."
   ]
  },
  {
   "cell_type": "code",
   "execution_count": 34,
   "metadata": {},
   "outputs": [
    {
     "data": {
      "text/plain": [
       "<AxesSubplot:xlabel='DATE'>"
      ]
     },
     "execution_count": 34,
     "metadata": {},
     "output_type": "execute_result"
    },
    {
     "data": {
      "image/png": "[encoded data removed]",
      "text/plain": [
       "<Figure size 432x288 with 1 Axes>"
      ]
     },
     "metadata": {
      "needs_background": "light"
     },
     "output_type": "display_data"
    }
   ],
   "source": [
    "rgdp.fillna(method='ffill').plot()"
   ]
  },
  {
   "cell_type": "markdown",
   "metadata": {},
   "source": [
    "## Exercise:\n",
    "\n",
    "Normalize real GDP to year **2000** dollars.\n",
    "\n",
    "Right now, the unit on the `CPI` variable is \"Index 1982-1984=100\". This means that \"index value\" for the Consumer Price *Index* show year is the average of 1982 - 1984."
   ]
  },
  {
   "cell_type": "code",
   "execution_count": 40,
   "metadata": {},
   "outputs": [
    {
     "data": {
      "text/plain": [
       "DATE\n",
       "1982-01-01    94.4\n",
       "1982-02-01    94.7\n",
       "1982-03-01    94.7\n",
       "Name: CPIAUCSL, dtype: float64"
      ]
     },
     "execution_count": 40,
     "metadata": {},
     "output_type": "execute_result"
    }
   ],
   "source": [
    "cpi['1982':'1984'].head(3)"
   ]
  },
  {
   "cell_type": "code",
   "execution_count": 41,
   "metadata": {},
   "outputs": [
    {
     "data": {
      "text/plain": [
       "100.01666666666667"
      ]
     },
     "execution_count": 41,
     "metadata": {},
     "output_type": "execute_result"
    }
   ],
   "source": [
    "# use `.loc[start:end]` or `.loc[\"<year>\"]` to slice a subset of *rows*\n",
    "cpi.loc['1982':'1984'].mean()  # close enough to 100"
   ]
  },
  {
   "cell_type": "markdown",
   "metadata": {},
   "source": [
    "To *renormalize* an index like CPI, divide the series by the average of a different timespan (say the year 2000) and multiply by 100."
   ]
  },
  {
   "cell_type": "code",
   "execution_count": 46,
   "metadata": {},
   "outputs": [
    {
     "data": {
      "text/plain": [
       "172.1916666666667"
      ]
     },
     "execution_count": 46,
     "metadata": {},
     "output_type": "execute_result"
    }
   ],
   "source": [
    "# Get the mean CPI for the year 2000\n",
    "cpi_2000_average = cpi.loc['2000'].mean()\n",
    "cpi_2000_average"
   ]
  },
  {
   "cell_type": "code",
   "execution_count": 50,
   "metadata": {},
   "outputs": [
    {
     "data": {
      "text/plain": [
       "DATE\n",
       "1947-01-01     12.474471\n",
       "1947-02-01     12.555776\n",
       "1947-03-01     12.776460\n",
       "1947-04-01     12.776460\n",
       "1947-05-01     12.747423\n",
       "                 ...    \n",
       "2020-05-01    148.536805\n",
       "2020-06-01    149.376567\n",
       "2020-07-01    150.252916\n",
       "2020-08-01    150.809273\n",
       "2020-09-01    151.115908\n",
       "Name: CPIAUCSL, Length: 885, dtype: float64"
      ]
     },
     "execution_count": 50,
     "metadata": {},
     "output_type": "execute_result"
    }
   ],
   "source": [
    "# *renormalize* the entire `cpi` series to \"Index 2000\" units.\n",
    "cpi_2000 = 100 * (cpi / cpi_2000_average)\n",
    "cpi_2000"
   ]
  },
  {
   "cell_type": "code",
   "execution_count": 51,
   "metadata": {},
   "outputs": [
    {
     "data": {
      "text/plain": [
       "DATE\n",
       "1947-01-01     19.492930\n",
       "1947-02-01           NaN\n",
       "1947-03-01           NaN\n",
       "1947-04-01     19.251654\n",
       "1947-05-01           NaN\n",
       "                 ...    \n",
       "2020-05-01           NaN\n",
       "2020-06-01           NaN\n",
       "2020-07-01    140.813474\n",
       "2020-08-01           NaN\n",
       "2020-09-01           NaN\n",
       "Length: 885, dtype: float64"
      ]
     },
     "execution_count": 51,
     "metadata": {},
     "output_type": "execute_result"
    }
   ],
   "source": [
    "# Compute real GDP again, this time in \"year 2000 dollars\".\n",
    "rgdp_2000 = gdp/cpi_2000\n",
    "rgdp_2000"
   ]
  },
  {
   "cell_type": "code",
   "execution_count": 52,
   "metadata": {},
   "outputs": [
    {
     "data": {
      "text/plain": [
       "DATE\n",
       "1947-01-01     19.492930\n",
       "1947-02-01           NaN\n",
       "1947-03-01           NaN\n",
       "1947-04-01     19.251654\n",
       "1947-05-01           NaN\n",
       "                 ...    \n",
       "2020-05-01           NaN\n",
       "2020-06-01           NaN\n",
       "2020-07-01    140.813474\n",
       "2020-08-01           NaN\n",
       "2020-09-01           NaN\n",
       "Length: 885, dtype: float64"
      ]
     },
     "execution_count": 52,
     "metadata": {},
     "output_type": "execute_result"
    }
   ],
   "source": [
    "# %load solutions/alignment-cpi2000.py\n",
    "cpi_2000_average = cpi.loc[\"2000\"].mean()\n",
    "\n",
    "# *renormalize* the entire `cpi` series to \"Index 2000\" units.\n",
    "cpi_2000 = 100 * (cpi / cpi_2000_average)\n",
    "\n",
    "# Compute real GDP again, this time in \"year 2000 dollars\".\n",
    "rgdp_2000 = gdp / cpi_2000\n",
    "rgdp_2000\n"
   ]
  },
  {
   "cell_type": "markdown",
   "metadata": {},
   "source": [
    "## Summary\n",
    "\n",
    "In pandas, you generally want to have *meaningful row labels*. They should uniquely identify each observation.\n",
    "Having a unique identifier is just good data hygenie. And since they're in the index they stay out of the way in operations.\n",
    "\n",
    "## Next Steps\n",
    "\n",
    "Now we'll discuss [Tidy Data](Tidy.ipynb)."
   ]
  }
 ],
 "metadata": {
  "kernelspec": {
   "display_name": "Python 3",
   "language": "python",
   "name": "python3"
  },
  "language_info": {
   "codemirror_mode": {
    "name": "ipython",
    "version": 3
   },
   "file_extension": ".py",
   "mimetype": "text/x-python",
   "name": "python",
   "nbconvert_exporter": "python",
   "pygments_lexer": "ipython3",
   "version": "3.8.6"
  }
 },
 "nbformat": 4,
 "nbformat_minor": 4
}
